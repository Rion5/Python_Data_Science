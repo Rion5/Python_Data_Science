{
 "cells": [
  {
   "cell_type": "markdown",
   "metadata": {},
   "source": [
    "# Importing other file types (Excel etc)\n",
    "* Excel spreadsheets\n",
    "* MATLAB file\n",
    "* SAS files\n",
    "* Stata files\n",
    "* HDF5 files\n",
    "\n",
    "## Importing Pickled Files\n",
    "* File type native to Python\n",
    "* Intent: Many datatypes, such as dictionaries and lists, for which it isn't obvious how to store them\n",
    "    * If you want to merely import a file into Python, you can ***Serialize*** it aka ***Pickling*** them\n",
    "    * Pickled files are serialized\n",
    "    * Serialize = convert object to bytestream\n",
    "\n",
    "```python\n",
    "import pickle\n",
    "with open('file_name.pkl', 'rb') as file:\n",
    "    data = pickle.load(file)\n",
    "```\n",
    "\n",
    "## Importing Excel Spreadsheets\n",
    "There are many ways to import excel spreadsheets. Standard convention is to use ***pandas***"
   ]
  },
  {
   "cell_type": "code",
   "execution_count": 1,
   "metadata": {},
   "outputs": [
    {
     "name": "stdout",
     "output_type": "stream",
     "text": [
      "<class 'pandas.io.excel.ExcelFile'>\n",
      "Sheet Name: ['Sheet1']\n",
      "\n",
      "OrderedDict([('Sheet1',     Name  Age  Profession\n",
      "0  Billy   16      Waiter\n",
      "1    Ted   32     Teacher\n",
      "2   Joey   28  Accountant)])\n"
     ]
    }
   ],
   "source": [
    "import pandas as pd\n",
    "file = 'excel_example.xlsx'\n",
    "data = pd.ExcelFile(file) \n",
    "print(type(data))\n",
    "print(f'Sheet Name: {data.sheet_names}\\n')\n",
    "print(data.parse(data.sheet_names))"
   ]
  },
  {
   "cell_type": "markdown",
   "metadata": {},
   "source": [
    "### Customizing your spreadsheet import\n",
    "\n",
    "Turning Type ExcelFile to DataFrame"
   ]
  },
  {
   "cell_type": "code",
   "execution_count": 2,
   "metadata": {},
   "outputs": [
    {
     "name": "stdout",
     "output_type": "stream",
     "text": [
      "<class 'pandas.core.frame.DataFrame'>\n"
     ]
    },
    {
     "data": {
      "text/html": [
       "<div>\n",
       "<style scoped>\n",
       "    .dataframe tbody tr th:only-of-type {\n",
       "        vertical-align: middle;\n",
       "    }\n",
       "\n",
       "    .dataframe tbody tr th {\n",
       "        vertical-align: top;\n",
       "    }\n",
       "\n",
       "    .dataframe thead th {\n",
       "        text-align: right;\n",
       "    }\n",
       "</style>\n",
       "<table border=\"1\" class=\"dataframe\">\n",
       "  <thead>\n",
       "    <tr style=\"text-align: right;\">\n",
       "      <th></th>\n",
       "      <th>Name</th>\n",
       "      <th>Age</th>\n",
       "      <th>Profession</th>\n",
       "    </tr>\n",
       "  </thead>\n",
       "  <tbody>\n",
       "    <tr>\n",
       "      <th>0</th>\n",
       "      <td>Billy</td>\n",
       "      <td>16</td>\n",
       "      <td>Waiter</td>\n",
       "    </tr>\n",
       "    <tr>\n",
       "      <th>1</th>\n",
       "      <td>Ted</td>\n",
       "      <td>32</td>\n",
       "      <td>Teacher</td>\n",
       "    </tr>\n",
       "    <tr>\n",
       "      <th>2</th>\n",
       "      <td>Joey</td>\n",
       "      <td>28</td>\n",
       "      <td>Accountant</td>\n",
       "    </tr>\n",
       "  </tbody>\n",
       "</table>\n",
       "</div>"
      ],
      "text/plain": [
       "    Name  Age  Profession\n",
       "0  Billy   16      Waiter\n",
       "1    Ted   32     Teacher\n",
       "2   Joey   28  Accountant"
      ]
     },
     "execution_count": 2,
     "metadata": {},
     "output_type": "execute_result"
    }
   ],
   "source": [
    "data = pd.read_excel(file)\n",
    "print(type(data))\n",
    "data.head()"
   ]
  },
  {
   "cell_type": "markdown",
   "metadata": {},
   "source": [
    "## Importing SAS / Stata files using pandas\n",
    "\n",
    "### SAS: Statistical Analysis System\n",
    "* Used in business analytics and biostatistics\n",
    "* Advanced analytics\n",
    "* Multivariate analysis\n",
    "* Business Intelligence\n",
    "* Data Management\n",
    "* Predictive Analytics\n",
    "* Standard for Computational Analysis\n",
    "    * Extensions: *.sas7bdat*, *.sas7bcat*\n",
    "        \n",
    "#### Importing SAS files\n",
    "```python\n",
    "import pandas as pd\n",
    "from sas7bdat import SAS7BDAT\n",
    "with SAS7BDAT('file_name.sas7bdat') as file:\n",
    "    df_sas = file.to_data_frame()\n",
    "```\n",
    "\n",
    "### Stata: \"Statistics\" + \"data\"\n",
    "* Used in academic social sciences research\n",
    "    * Extension: *.dta*\n",
    "\n",
    "#### Importing Stata files\n",
    "```python\n",
    "import pandas as pd\n",
    "data = pd.read_stata('file_name.dta')\n",
    "```\n",
    "\n",
    "Note: We do not have to initialize a Context Manager\n"
   ]
  },
  {
   "cell_type": "markdown",
   "metadata": {},
   "source": [
    "## Importing HDF5 Files\n",
    "\n",
    "Hierarchical Data Format version 5\n",
    "* Stndard for storing large quantities of numerical data\n",
    "* Datasets can be hundreds of gigabytes or terabytes of data\n",
    "* HDF5 can scale to exabytes\n",
    "\n",
    "```python\n",
    "import h5py\n",
    "data = h5py.File('file_name.hdf5', 'r')\n",
    "```\n",
    "\n",
    "### The structure of HDF5 files\n",
    "\n",
    "```python\n",
    "for key in data.keys():\n",
    "    print(key)\n",
    "```"
   ]
  },
  {
   "cell_type": "markdown",
   "metadata": {},
   "source": [
    "## Importing MATLAB files\n",
    "* Matrix Laboratory\n",
    "* Industry standard in engineering and science\n",
    "    * Extension *.mat*\n",
    "\n",
    "\n",
    "**SciPy**\n",
    "* scipy.io.loadmat() - read  .mat files\n",
    "* scipy.io.savemat() - write .mat files\n",
    "\n",
    "```python\n",
    "import scipy.io\n",
    "mat = scipy.io.loadmat('file_name.mat')\n",
    "```"
   ]
  }
 ],
 "metadata": {
  "kernelspec": {
   "display_name": "Python 3",
   "language": "python",
   "name": "python3"
  },
  "language_info": {
   "codemirror_mode": {
    "name": "ipython",
    "version": 3
   },
   "file_extension": ".py",
   "mimetype": "text/x-python",
   "name": "python",
   "nbconvert_exporter": "python",
   "pygments_lexer": "ipython3",
   "version": "3.7.3"
  },
  "toc": {
   "base_numbering": 1,
   "nav_menu": {},
   "number_sections": true,
   "sideBar": true,
   "skip_h1_title": false,
   "title_cell": "Table of Contents",
   "title_sidebar": "Contents",
   "toc_cell": false,
   "toc_position": {
    "height": "calc(100% - 180px)",
    "left": "10px",
    "top": "150px",
    "width": "349px"
   },
   "toc_section_display": true,
   "toc_window_display": true
  },
  "varInspector": {
   "cols": {
    "lenName": 16,
    "lenType": 16,
    "lenVar": 40
   },
   "kernels_config": {
    "python": {
     "delete_cmd_postfix": "",
     "delete_cmd_prefix": "del ",
     "library": "var_list.py",
     "varRefreshCmd": "print(var_dic_list())"
    },
    "r": {
     "delete_cmd_postfix": ") ",
     "delete_cmd_prefix": "rm(",
     "library": "var_list.r",
     "varRefreshCmd": "cat(var_dic_list()) "
    }
   },
   "position": {
    "height": "149px",
    "left": "1557px",
    "right": "20px",
    "top": "120px",
    "width": "343px"
   },
   "types_to_exclude": [
    "module",
    "function",
    "builtin_function_or_method",
    "instance",
    "_Feature"
   ],
   "window_display": false
  }
 },
 "nbformat": 4,
 "nbformat_minor": 2
}
