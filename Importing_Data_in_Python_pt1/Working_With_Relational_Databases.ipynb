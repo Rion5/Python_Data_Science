{
 "cells": [
  {
   "cell_type": "markdown",
   "metadata": {},
   "source": [
    "# Working With Relational Databases\n",
    "\n",
    "## Creating a Database Engine\n",
    "\n",
    "A **database engine** is the underlying component that a DBMS uses to create, read, update, and delete (CRUD) data from a database\n",
    "\n",
    "The term ***database engine*** is frequently used interchangeably with ***database server*** or ***database management system***.\n",
    "\n",
    "*In this example we will use SQLite and SQLAlchemy*"
   ]
  },
  {
   "cell_type": "code",
   "execution_count": 1,
   "metadata": {},
   "outputs": [
    {
     "name": "stdout",
     "output_type": "stream",
     "text": [
      "['Category', 'Customer', 'CustomerCustomerDemo', 'CustomerDemographic', 'Employee', 'EmployeeTerritory', 'Order', 'OrderDetail', 'Product', 'Region', 'Shipper', 'Supplier', 'Territory']\n"
     ]
    }
   ],
   "source": [
    "from sqlalchemy import create_engine\n",
    "# Required parameter: A string that indicates the type of database you're connecting to, and the name of the database\n",
    "engine = create_engine('sqlite:///Northwind.sqlite')\n",
    "table_names = engine.table_names()\n",
    "print(table_names)\n",
    "\n",
    "# Note: Before we can query the database, we need to connect to the engine"
   ]
  },
  {
   "cell_type": "markdown",
   "metadata": {},
   "source": [
    "## Querying relational databases in Python\n",
    "\n",
    "\n",
    "**Workflow of SQL querying**\n",
    "\n",
    "1. Import packages and functions\n",
    "2. Create the database engine\n",
    "3. Connect to the engine\n",
    "4. Query the database\n",
    "5. Save query results to a DataFrame\n",
    "6. Close the connection\n",
    "\n",
    "**Example: SQL Query with SQLAlchemy**"
   ]
  },
  {
   "cell_type": "code",
   "execution_count": 2,
   "metadata": {},
   "outputs": [
    {
     "data": {
      "text/html": [
       "<div>\n",
       "<style scoped>\n",
       "    .dataframe tbody tr th:only-of-type {\n",
       "        vertical-align: middle;\n",
       "    }\n",
       "\n",
       "    .dataframe tbody tr th {\n",
       "        vertical-align: top;\n",
       "    }\n",
       "\n",
       "    .dataframe thead th {\n",
       "        text-align: right;\n",
       "    }\n",
       "</style>\n",
       "<table border=\"1\" class=\"dataframe\">\n",
       "  <thead>\n",
       "    <tr style=\"text-align: right;\">\n",
       "      <th></th>\n",
       "      <th>0</th>\n",
       "      <th>1</th>\n",
       "      <th>2</th>\n",
       "      <th>3</th>\n",
       "      <th>4</th>\n",
       "      <th>5</th>\n",
       "      <th>6</th>\n",
       "      <th>7</th>\n",
       "      <th>8</th>\n",
       "      <th>9</th>\n",
       "      <th>10</th>\n",
       "      <th>11</th>\n",
       "      <th>12</th>\n",
       "      <th>13</th>\n",
       "      <th>14</th>\n",
       "      <th>15</th>\n",
       "      <th>16</th>\n",
       "      <th>17</th>\n",
       "    </tr>\n",
       "  </thead>\n",
       "  <tbody>\n",
       "    <tr>\n",
       "      <th>0</th>\n",
       "      <td>1</td>\n",
       "      <td>Davolio</td>\n",
       "      <td>Nancy</td>\n",
       "      <td>Sales Representative</td>\n",
       "      <td>Ms.</td>\n",
       "      <td>1980-12-08</td>\n",
       "      <td>2024-05-01</td>\n",
       "      <td>507 - 20th Ave. E. Apt. 2A</td>\n",
       "      <td>Seattle</td>\n",
       "      <td>North America</td>\n",
       "      <td>98122</td>\n",
       "      <td>USA</td>\n",
       "      <td>(206) 555-9857</td>\n",
       "      <td>5467</td>\n",
       "      <td>None</td>\n",
       "      <td>Education includes a BA in psychology from Col...</td>\n",
       "      <td>2.0</td>\n",
       "      <td>http://accweb/emmployees/davolio.bmp</td>\n",
       "    </tr>\n",
       "    <tr>\n",
       "      <th>1</th>\n",
       "      <td>2</td>\n",
       "      <td>Fuller</td>\n",
       "      <td>Andrew</td>\n",
       "      <td>Vice President, Sales</td>\n",
       "      <td>Dr.</td>\n",
       "      <td>1984-02-19</td>\n",
       "      <td>2024-08-14</td>\n",
       "      <td>908 W. Capital Way</td>\n",
       "      <td>Tacoma</td>\n",
       "      <td>North America</td>\n",
       "      <td>98401</td>\n",
       "      <td>USA</td>\n",
       "      <td>(206) 555-9482</td>\n",
       "      <td>3457</td>\n",
       "      <td>None</td>\n",
       "      <td>Andrew received his BTS commercial in 1974 and...</td>\n",
       "      <td>NaN</td>\n",
       "      <td>http://accweb/emmployees/fuller.bmp</td>\n",
       "    </tr>\n",
       "  </tbody>\n",
       "</table>\n",
       "</div>"
      ],
      "text/plain": [
       "   0        1       2                      3    4           5           6   \\\n",
       "0   1  Davolio   Nancy   Sales Representative  Ms.  1980-12-08  2024-05-01   \n",
       "1   2   Fuller  Andrew  Vice President, Sales  Dr.  1984-02-19  2024-08-14   \n",
       "\n",
       "                           7        8              9      10   11  \\\n",
       "0  507 - 20th Ave. E. Apt. 2A  Seattle  North America  98122  USA   \n",
       "1          908 W. Capital Way   Tacoma  North America  98401  USA   \n",
       "\n",
       "               12    13    14  \\\n",
       "0  (206) 555-9857  5467  None   \n",
       "1  (206) 555-9482  3457  None   \n",
       "\n",
       "                                                  15   16  \\\n",
       "0  Education includes a BA in psychology from Col...  2.0   \n",
       "1  Andrew received his BTS commercial in 1974 and...  NaN   \n",
       "\n",
       "                                     17  \n",
       "0  http://accweb/emmployees/davolio.bmp  \n",
       "1   http://accweb/emmployees/fuller.bmp  "
      ]
     },
     "execution_count": 2,
     "metadata": {},
     "output_type": "execute_result"
    }
   ],
   "source": [
    "# 1) Import packages and functions\n",
    "from sqlalchemy import create_engine\n",
    "import pandas as pd\n",
    "\n",
    "# 2) Create the database engine\n",
    "engine = create_engine('sqlite:///Northwind.sqlite')\n",
    "\n",
    "# 3) Connect to the engine\n",
    "con = engine.connect()\n",
    "\n",
    "# 4) Query Database - Returns a SQLAlchemy results object\n",
    "results = con.execute(\"SELECT * FROM Employee\")\n",
    "\n",
    "# 5) Save the query results into a Dataframe (Turn SQLAlchemy results object into a DataFrame)\n",
    "df = pd.DataFrame(results.fetchall())\n",
    "df.head(2)"
   ]
  },
  {
   "cell_type": "code",
   "execution_count": 3,
   "metadata": {},
   "outputs": [],
   "source": [
    "# 6) Close the connection\n",
    "con.close()"
   ]
  }
 ],
 "metadata": {
  "kernelspec": {
   "display_name": "Python 3",
   "language": "python",
   "name": "python3"
  },
  "language_info": {
   "codemirror_mode": {
    "name": "ipython",
    "version": 3
   },
   "file_extension": ".py",
   "mimetype": "text/x-python",
   "name": "python",
   "nbconvert_exporter": "python",
   "pygments_lexer": "ipython3",
   "version": "3.7.3"
  },
  "toc": {
   "base_numbering": 1,
   "nav_menu": {},
   "number_sections": true,
   "sideBar": true,
   "skip_h1_title": false,
   "title_cell": "Table of Contents",
   "title_sidebar": "Contents",
   "toc_cell": false,
   "toc_position": {},
   "toc_section_display": true,
   "toc_window_display": false
  }
 },
 "nbformat": 4,
 "nbformat_minor": 2
}
