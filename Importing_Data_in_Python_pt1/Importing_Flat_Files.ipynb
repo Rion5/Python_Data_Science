{
 "cells": [
  {
   "cell_type": "markdown",
   "metadata": {},
   "source": [
    "# Importing Data in Python Part I\n",
    "\n",
    "## Importing Flat Files\n",
    "\n",
    "### Reading a text file\n",
    "\n",
    "* 1) Assign filename to a variable\n",
    "* 2) Pass the filename to the fuction open()\n",
    "    * mode = 'r' sets the file to ReadOnly\n",
    "* 3) Assign the text from the file to a variable, 'text', by using the read() method\n",
    "* 4) Close the connection"
   ]
  },
  {
   "cell_type": "code",
   "execution_count": 1,
   "metadata": {},
   "outputs": [
    {
     "name": "stdout",
     "output_type": "stream",
     "text": [
      "Lorem ipsum dolor sit amet, pri ex nullam accusata.\n",
      "In prima error accommodare vis, ad semper offendit interpretaris mea.\n",
      "Cum ne atqui malorum eligendi, labore pertinax euripidis ei his. Vel meis salutatus quaerendum ex. Consetetur theophrastus contentiones pro ut. Est ei quem copiosae.\n"
     ]
    }
   ],
   "source": [
    "filename = 'sample_data/flat_file_1.txt'\n",
    "file = open(filename, mode='r')\n",
    "text = file.read()\n",
    "\n",
    "print(text)\n",
    "\n",
    "file.close()"
   ]
  },
  {
   "cell_type": "markdown",
   "metadata": {},
   "source": [
    "### Context manager 'with'\n",
    "\n",
    "You can avoid having to close the conneciton to the file by using a ***with*** statement. This allows you to create a context in which you can execute commands with file open\n",
    "\n",
    "Once out of this clause, the file is no longer open, and for this reason, is called a **Context Manager**. This is known as binding. It is considered best practices to use the ***with*** statement to never have to concern yourself with closing te files again"
   ]
  },
  {
   "cell_type": "markdown",
   "metadata": {},
   "source": [
    "with open('flat_file_1.txt', 'r') as file:\n",
    "    print(file.readline())\n",
    "    print(file.readline())\n",
    "    print(file.readline())"
   ]
  },
  {
   "cell_type": "markdown",
   "metadata": {},
   "source": [
    "## The Importance of Flat Files in Data Science\n",
    "\n",
    "### Flat Files\n",
    "May Consist of ...\n",
    "* Text files containing records\n",
    "* Table Data\n",
    "* Record: Row of Fields of Attributes\n",
    "* Column: Feature or Attribute\n",
    "\n",
    "Certain Flat Files may include a **Header**, which is a Row, which shows up as the 1st Row and describes the contents of the data columns\n",
    "\n",
    "#### Extension\n",
    "* .csv - Comma separated values\n",
    "* .txt - Text file\n",
    "* commas, tabs - Delimiters\n",
    "    * Values can be separated by characters or seqences of characters\n",
    "    * Most common delimiters are commas and tabs\n",
    "    \n",
    "### How do you import flat files?\n",
    "* NumPy  - Store numbers into a numpy array\n",
    "    * .loadtxt()\n",
    "* pandas - Store data into a data frame\n",
    "\n",
    "## Importing Flat Files using NumPy"
   ]
  },
  {
   "cell_type": "code",
   "execution_count": 2,
   "metadata": {},
   "outputs": [
    {
     "name": "stdout",
     "output_type": "stream",
     "text": [
      "['\"Billy' ' Ted' ' Joey\"' '\"25' ' 50' ' 100\"']\n"
     ]
    }
   ],
   "source": [
    "import numpy as np\n",
    "file = 'sample_data/digits.csv'\n",
    "# Skips 1st Header Row, and set all cells to strings\n",
    "digits = np.loadtxt(file, delimiter=',', skiprows=1, dtype=str)\n",
    "print(digits)"
   ]
  },
  {
   "cell_type": "markdown",
   "metadata": {},
   "source": [
    "### Working with mixed datatypes\n",
    "\n",
    "Much of the time, datasets will have different datatypes in different columns; one column may contain strings, another floats, etc.\n",
    "\n",
    "**.loadtxt()** is great for basic cases, but tends to break down when we have mixed datatypes. There is another function, **np.genfromtxt()**, which can handle such structures. If we pass **dtype = None** to it, it will figure out what types each columns shuld be.\n",
    "\n",
    "Although ***NumPy*** arrays can handle data of mixed types, the natural place for such data is the ***pandas*** DataFrame"
   ]
  },
  {
   "cell_type": "code",
   "execution_count": 3,
   "metadata": {},
   "outputs": [
    {
     "data": {
      "text/plain": [
       "array([(0, 3, 'male', 22., 1, 0, 'A/5 21171',  7.25  , '', 'S', '\"Braund'),\n",
       "       (1, 1, 'female', 38., 1, 0, 'PC 17599', 71.2833, 'C85', 'C', '\"Cumings'),\n",
       "       (1, 3, 'female', 26., 0, 0, 'STON/O2. 3101282',  7.925 , '', 'S', '\"Heikkinen'),\n",
       "       (1, 1, 'female', 35., 1, 0, '113803', 53.1   , 'C123', 'S', '\"Futrelle'),\n",
       "       (0, 3, 'male', 35., 0, 0, '373450',  8.05  , '', 'S', '\"Allen'),\n",
       "       (0, 3, 'male', nan, 0, 0, '330877',  8.4583, '', 'Q', '\"Moran'),\n",
       "       (0, 1, 'male', 54., 0, 0, '17463', 51.8625, 'E46', 'S', '\"McCarthy'),\n",
       "       (0, 3, 'male',  2., 3, 1, '349909', 21.075 , '', 'S', '\"Palsson'),\n",
       "       (1, 3, 'female', 27., 0, 2, '347742', 11.1333, '', 'S', '\"Johnson'),\n",
       "       (1, 2, 'female', 14., 1, 0, '237736', 30.0708, '', 'C', '\"Nasser')],\n",
       "      dtype=[('Survived', '<i4'), ('Pclass', '<i4'), ('Sex', '<U6'), ('Age', '<f8'), ('SibSp', '<i4'), ('Parch', '<i4'), ('Ticket', '<U18'), ('Fare', '<f8'), ('Cabin', '<U15'), ('Embarked', '<U1'), ('Name', '<U23')])"
      ]
     },
     "execution_count": 3,
     "metadata": {},
     "output_type": "execute_result"
    }
   ],
   "source": [
    "data = np.genfromtxt('sample_data/titanic.csv', delimiter=',', names=True, dtype=None, encoding = 'ascii', usecols = (1,2,3,4,5,6,7,8,9,10,11))\n",
    "data[0:10]"
   ]
  },
  {
   "cell_type": "markdown",
   "metadata": {},
   "source": [
    "### Working with mixed datatypes (2)\n",
    "\n",
    "There is also **np.recfromcsv()** that behaves similarly to **np.genfromtxt()**, except that its default dtype is None. In the example above we had to explicitly specify dtype=None"
   ]
  },
  {
   "cell_type": "code",
   "execution_count": 4,
   "metadata": {},
   "outputs": [
    {
     "data": {
      "text/plain": [
       "rec.array([(0, 3, 'male', 22., 1, 0, 'A/5 21171',  7.25  , '', 'S', '\"Braund'),\n",
       "           (1, 1, 'female', 38., 1, 0, 'PC 17599', 71.2833, 'C85', 'C', '\"Cumings'),\n",
       "           (1, 3, 'female', 26., 0, 0, 'STON/O2. 3101282',  7.925 , '', 'S', '\"Heikkinen'),\n",
       "           (1, 1, 'female', 35., 1, 0, '113803', 53.1   , 'C123', 'S', '\"Futrelle'),\n",
       "           (0, 3, 'male', 35., 0, 0, '373450',  8.05  , '', 'S', '\"Allen'),\n",
       "           (0, 3, 'male', nan, 0, 0, '330877',  8.4583, '', 'Q', '\"Moran'),\n",
       "           (0, 1, 'male', 54., 0, 0, '17463', 51.8625, 'E46', 'S', '\"McCarthy'),\n",
       "           (0, 3, 'male',  2., 3, 1, '349909', 21.075 , '', 'S', '\"Palsson'),\n",
       "           (1, 3, 'female', 27., 0, 2, '347742', 11.1333, '', 'S', '\"Johnson'),\n",
       "           (1, 2, 'female', 14., 1, 0, '237736', 30.0708, '', 'C', '\"Nasser')],\n",
       "          dtype=[('survived', '<i4'), ('pclass', '<i4'), ('sex', '<U6'), ('age', '<f8'), ('sibsp', '<i4'), ('parch', '<i4'), ('ticket', '<U18'), ('fare', '<f8'), ('cabin', '<U15'), ('embarked', '<U1'), ('name', '<U23')])"
      ]
     },
     "execution_count": 4,
     "metadata": {},
     "output_type": "execute_result"
    }
   ],
   "source": [
    "data = np.recfromcsv('sample_data/titanic.csv', encoding = 'ascii', usecols = (1,2,3,4,5,6,7,8,9,10,11))\n",
    "data[0:10]"
   ]
  },
  {
   "cell_type": "markdown",
   "metadata": {},
   "source": [
    "## pandas - Python Data Analysis Library\n",
    "\n",
    "#### What problem does pandas solve?\n",
    "* Two-Dimensional labeled data structures\n",
    "* Columns of potentially different types\n",
    "* Manipulate, slice, reshape, groupby,join , merge\n",
    "* Perform statistics\n",
    "* Work with time series data\n",
    "\n",
    "\"*A matrix has rows and columns. A data frame as observations and variables.*\"\n",
    "\n",
    "#### Manipulating pandas DataFrames\n",
    "* Exploratory data analysis\n",
    "* Data wrangling\n",
    "* Data preprocessing\n",
    "* Building models\n",
    "* Visualization\n",
    "\n",
    "## Importing Flat Files using pandas"
   ]
  },
  {
   "cell_type": "code",
   "execution_count": 5,
   "metadata": {
    "scrolled": true
   },
   "outputs": [
    {
     "data": {
      "text/html": [
       "<div>\n",
       "<style scoped>\n",
       "    .dataframe tbody tr th:only-of-type {\n",
       "        vertical-align: middle;\n",
       "    }\n",
       "\n",
       "    .dataframe tbody tr th {\n",
       "        vertical-align: top;\n",
       "    }\n",
       "\n",
       "    .dataframe thead th {\n",
       "        text-align: right;\n",
       "    }\n",
       "</style>\n",
       "<table border=\"1\" class=\"dataframe\">\n",
       "  <thead>\n",
       "    <tr style=\"text-align: right;\">\n",
       "      <th></th>\n",
       "      <th>PassengerId</th>\n",
       "      <th>Survived</th>\n",
       "      <th>Pclass</th>\n",
       "      <th>Sex</th>\n",
       "      <th>Age</th>\n",
       "      <th>SibSp</th>\n",
       "      <th>Parch</th>\n",
       "      <th>Ticket</th>\n",
       "      <th>Fare</th>\n",
       "      <th>Cabin</th>\n",
       "      <th>Embarked</th>\n",
       "      <th>Name</th>\n",
       "    </tr>\n",
       "  </thead>\n",
       "  <tbody>\n",
       "    <tr>\n",
       "      <th>0</th>\n",
       "      <td>1</td>\n",
       "      <td>0</td>\n",
       "      <td>3</td>\n",
       "      <td>male</td>\n",
       "      <td>22.0</td>\n",
       "      <td>1</td>\n",
       "      <td>0</td>\n",
       "      <td>A/5 21171</td>\n",
       "      <td>7.2500</td>\n",
       "      <td>NaN</td>\n",
       "      <td>S</td>\n",
       "      <td>Braund, Mr. Owen Harris</td>\n",
       "    </tr>\n",
       "    <tr>\n",
       "      <th>1</th>\n",
       "      <td>2</td>\n",
       "      <td>1</td>\n",
       "      <td>1</td>\n",
       "      <td>female</td>\n",
       "      <td>38.0</td>\n",
       "      <td>1</td>\n",
       "      <td>0</td>\n",
       "      <td>PC 17599</td>\n",
       "      <td>71.2833</td>\n",
       "      <td>C85</td>\n",
       "      <td>C</td>\n",
       "      <td>Cumings, Mrs. John Bradley (Florence Briggs Th...</td>\n",
       "    </tr>\n",
       "    <tr>\n",
       "      <th>2</th>\n",
       "      <td>3</td>\n",
       "      <td>1</td>\n",
       "      <td>3</td>\n",
       "      <td>female</td>\n",
       "      <td>26.0</td>\n",
       "      <td>0</td>\n",
       "      <td>0</td>\n",
       "      <td>STON/O2. 3101282</td>\n",
       "      <td>7.9250</td>\n",
       "      <td>NaN</td>\n",
       "      <td>S</td>\n",
       "      <td>Heikkinen, Miss. Laina</td>\n",
       "    </tr>\n",
       "    <tr>\n",
       "      <th>3</th>\n",
       "      <td>4</td>\n",
       "      <td>1</td>\n",
       "      <td>1</td>\n",
       "      <td>female</td>\n",
       "      <td>35.0</td>\n",
       "      <td>1</td>\n",
       "      <td>0</td>\n",
       "      <td>113803</td>\n",
       "      <td>53.1000</td>\n",
       "      <td>C123</td>\n",
       "      <td>S</td>\n",
       "      <td>Futrelle, Mrs. Jacques Heath (Lily May Peel)</td>\n",
       "    </tr>\n",
       "    <tr>\n",
       "      <th>4</th>\n",
       "      <td>5</td>\n",
       "      <td>0</td>\n",
       "      <td>3</td>\n",
       "      <td>male</td>\n",
       "      <td>35.0</td>\n",
       "      <td>0</td>\n",
       "      <td>0</td>\n",
       "      <td>373450</td>\n",
       "      <td>8.0500</td>\n",
       "      <td>NaN</td>\n",
       "      <td>S</td>\n",
       "      <td>Allen, Mr. William Henry</td>\n",
       "    </tr>\n",
       "    <tr>\n",
       "      <th>5</th>\n",
       "      <td>6</td>\n",
       "      <td>0</td>\n",
       "      <td>3</td>\n",
       "      <td>male</td>\n",
       "      <td>NaN</td>\n",
       "      <td>0</td>\n",
       "      <td>0</td>\n",
       "      <td>330877</td>\n",
       "      <td>8.4583</td>\n",
       "      <td>NaN</td>\n",
       "      <td>Q</td>\n",
       "      <td>Moran, Mr. James</td>\n",
       "    </tr>\n",
       "    <tr>\n",
       "      <th>6</th>\n",
       "      <td>7</td>\n",
       "      <td>0</td>\n",
       "      <td>1</td>\n",
       "      <td>male</td>\n",
       "      <td>54.0</td>\n",
       "      <td>0</td>\n",
       "      <td>0</td>\n",
       "      <td>17463</td>\n",
       "      <td>51.8625</td>\n",
       "      <td>E46</td>\n",
       "      <td>S</td>\n",
       "      <td>McCarthy, Mr. Timothy J</td>\n",
       "    </tr>\n",
       "    <tr>\n",
       "      <th>7</th>\n",
       "      <td>8</td>\n",
       "      <td>0</td>\n",
       "      <td>3</td>\n",
       "      <td>male</td>\n",
       "      <td>2.0</td>\n",
       "      <td>3</td>\n",
       "      <td>1</td>\n",
       "      <td>349909</td>\n",
       "      <td>21.0750</td>\n",
       "      <td>NaN</td>\n",
       "      <td>S</td>\n",
       "      <td>Palsson, Master. Gosta Leonard</td>\n",
       "    </tr>\n",
       "    <tr>\n",
       "      <th>8</th>\n",
       "      <td>9</td>\n",
       "      <td>1</td>\n",
       "      <td>3</td>\n",
       "      <td>female</td>\n",
       "      <td>27.0</td>\n",
       "      <td>0</td>\n",
       "      <td>2</td>\n",
       "      <td>347742</td>\n",
       "      <td>11.1333</td>\n",
       "      <td>NaN</td>\n",
       "      <td>S</td>\n",
       "      <td>Johnson, Mrs. Oscar W (Elisabeth Vilhelmina Berg)</td>\n",
       "    </tr>\n",
       "    <tr>\n",
       "      <th>9</th>\n",
       "      <td>10</td>\n",
       "      <td>1</td>\n",
       "      <td>2</td>\n",
       "      <td>female</td>\n",
       "      <td>14.0</td>\n",
       "      <td>1</td>\n",
       "      <td>0</td>\n",
       "      <td>237736</td>\n",
       "      <td>30.0708</td>\n",
       "      <td>NaN</td>\n",
       "      <td>C</td>\n",
       "      <td>Nasser, Mrs. Nicholas (Adele Achem)</td>\n",
       "    </tr>\n",
       "  </tbody>\n",
       "</table>\n",
       "</div>"
      ],
      "text/plain": [
       "   PassengerId  Survived  Pclass     Sex   Age  SibSp  Parch  \\\n",
       "0            1         0       3    male  22.0      1      0   \n",
       "1            2         1       1  female  38.0      1      0   \n",
       "2            3         1       3  female  26.0      0      0   \n",
       "3            4         1       1  female  35.0      1      0   \n",
       "4            5         0       3    male  35.0      0      0   \n",
       "5            6         0       3    male   NaN      0      0   \n",
       "6            7         0       1    male  54.0      0      0   \n",
       "7            8         0       3    male   2.0      3      1   \n",
       "8            9         1       3  female  27.0      0      2   \n",
       "9           10         1       2  female  14.0      1      0   \n",
       "\n",
       "             Ticket     Fare Cabin Embarked  \\\n",
       "0         A/5 21171   7.2500   NaN        S   \n",
       "1          PC 17599  71.2833   C85        C   \n",
       "2  STON/O2. 3101282   7.9250   NaN        S   \n",
       "3            113803  53.1000  C123        S   \n",
       "4            373450   8.0500   NaN        S   \n",
       "5            330877   8.4583   NaN        Q   \n",
       "6             17463  51.8625   E46        S   \n",
       "7            349909  21.0750   NaN        S   \n",
       "8            347742  11.1333   NaN        S   \n",
       "9            237736  30.0708   NaN        C   \n",
       "\n",
       "                                                Name  \n",
       "0                            Braund, Mr. Owen Harris  \n",
       "1  Cumings, Mrs. John Bradley (Florence Briggs Th...  \n",
       "2                             Heikkinen, Miss. Laina  \n",
       "3       Futrelle, Mrs. Jacques Heath (Lily May Peel)  \n",
       "4                           Allen, Mr. William Henry  \n",
       "5                                   Moran, Mr. James  \n",
       "6                            McCarthy, Mr. Timothy J  \n",
       "7                     Palsson, Master. Gosta Leonard  \n",
       "8  Johnson, Mrs. Oscar W (Elisabeth Vilhelmina Berg)  \n",
       "9                Nasser, Mrs. Nicholas (Adele Achem)  "
      ]
     },
     "execution_count": 5,
     "metadata": {},
     "output_type": "execute_result"
    }
   ],
   "source": [
    "import pandas as pd\n",
    "data = pd.read_csv('sample_data/titanic.csv')\n",
    "data.head(10)"
   ]
  },
  {
   "cell_type": "code",
   "execution_count": 7,
   "metadata": {},
   "outputs": [
    {
     "data": {
      "text/plain": [
       "Text(0, 0.5, 'count')"
      ]
     },
     "execution_count": 7,
     "metadata": {},
     "output_type": "execute_result"
    },
    {
     "data": {
      "image/png": "[encoded data removed]",
      "text/plain": [
       "<Figure size 432x288 with 1 Axes>"
      ]
     },
     "metadata": {
      "needs_background": "light"
     },
     "output_type": "display_data"
    }
   ],
   "source": [
    "import matplotlib.pyplot as plt\n",
    "# Plot 'Age' in a histogram\n",
    "pd.DataFrame.hist(data[['Age']])\n",
    "plt.xlabel('Age (years)')\n",
    "plt.ylabel('count')"
   ]
  },
  {
   "cell_type": "markdown",
   "metadata": {},
   "source": [
    "#### Customizing pandas import\n",
    "\n",
    "The *pandas* package is great at dealing with many of the issues such as comments occuring in flat files, empty lines and missing values."
   ]
  }
 ],
 "metadata": {
  "kernelspec": {
   "display_name": "Python 3",
   "language": "python",
   "name": "python3"
  },
  "language_info": {
   "codemirror_mode": {
    "name": "ipython",
    "version": 3
   },
   "file_extension": ".py",
   "mimetype": "text/x-python",
   "name": "python",
   "nbconvert_exporter": "python",
   "pygments_lexer": "ipython3",
   "version": "3.7.3"
  },
  "toc": {
   "base_numbering": 1,
   "nav_menu": {},
   "number_sections": true,
   "sideBar": true,
   "skip_h1_title": false,
   "title_cell": "Table of Contents",
   "title_sidebar": "Contents",
   "toc_cell": false,
   "toc_position": {},
   "toc_section_display": true,
   "toc_window_display": false
  }
 },
 "nbformat": 4,
 "nbformat_minor": 2
}
