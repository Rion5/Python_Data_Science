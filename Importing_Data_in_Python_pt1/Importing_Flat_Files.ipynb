{
 "cells": [
  {
   "cell_type": "markdown",
   "metadata": {},
   "source": [
    "# Importing Data in Python Part I\n",
    "\n",
    "## Importing Flat Files\n",
    "\n",
    "### Reading a text file\n",
    "\n",
    "* 1) Assign filename to a variable\n",
    "* 2) Pass the filename to the fuction open()\n",
    "    * mode = 'r' sets the file to ReadOnly\n",
    "* 3) Assign the text from the file to a variable, 'text', by using the read() method\n",
    "* 4) Close the connection"
   ]
  },
  {
   "cell_type": "code",
   "execution_count": 1,
   "metadata": {},
   "outputs": [
    {
     "name": "stdout",
     "output_type": "stream",
     "text": [
      "Lorem ipsum dolor sit amet, pri ex nullam accusata.\n",
      "In prima error accommodare vis, ad semper offendit interpretaris mea.\n",
      "Cum ne atqui malorum eligendi, labore pertinax euripidis ei his. Vel meis salutatus quaerendum ex. Consetetur theophrastus contentiones pro ut. Est ei quem copiosae.\n"
     ]
    }
   ],
   "source": [
    "filename = 'flat_file_1.txt'\n",
    "file = open(filename, mode='r')\n",
    "text = file.read()\n",
    "\n",
    "print(text)\n",
    "\n",
    "file.close()"
   ]
  },
  {
   "cell_type": "markdown",
   "metadata": {},
   "source": [
    "### Context manager 'with'\n",
    "\n",
    "You can avoid having to close the conneciton to the file by using a ***with*** statement. This allows you to create a context in which you can execute commands with file open\n",
    "\n",
    "Once out of this clause, the file is no longer open, and for this reason, is called a **Context Manager**. This is known as binding. It is considered best practices to use the ***with*** statement to never have to concern yourself with closing te files again"
   ]
  },
  {
   "cell_type": "markdown",
   "metadata": {},
   "source": [
    "with open('flat_file_1.txt', 'r') as file:\n",
    "    print(file.readline())\n",
    "    print(file.readline())\n",
    "    print(file.readline())"
   ]
  },
  {
   "cell_type": "markdown",
   "metadata": {},
   "source": [
    "## The Importance of Flat Files in Data Science\n",
    "\n",
    "### Flat Files\n",
    "May Consist of ...\n",
    "* Text files containing records\n",
    "* Table Data\n",
    "* Record: Row of Fields of Attributes\n",
    "* Column: Feature or Attribute\n",
    "\n",
    "Certain Flat Files may include a **Header**, which is a Row, which shows up as the 1st Row and describes the contents of the data columns\n",
    "\n",
    "#### Extension\n",
    "* .csv - Comma separated values\n",
    "* .txt - Text file\n",
    "* commas, tabs - Delimiters\n",
    "    * Values can be separated by characters or seqences of characters\n",
    "    * Most common delimiters are commas and tabs\n",
    "    \n",
    "### How do you import flat files?\n",
    "* NumPy  - Store numbers into a numpy array\n",
    "    * .loadtxt()\n",
    "* pandas - Store data into a data frame\n",
    "\n",
    "#### Importing Flat Files using NumPy"
   ]
  },
  {
   "cell_type": "code",
   "execution_count": 2,
   "metadata": {},
   "outputs": [
    {
     "name": "stdout",
     "output_type": "stream",
     "text": [
      "['\"Billy' ' Ted' ' Joey\"' '\"25' ' 50' ' 100\"']\n"
     ]
    }
   ],
   "source": [
    "import numpy as np\n",
    "file = 'digits.csv'\n",
    "# Skips 1st Header Row, and set all cells to strings\n",
    "digits = np.loadtxt(file, delimiter=',', skiprows=1, dtype=str)\n",
    "print(digits)"
   ]
  },
  {
   "cell_type": "markdown",
   "metadata": {},
   "source": [
    "### Working with mixed datatypes\n",
    "\n",
    "Much of the time, datasets will have different datatypes in different columns; one column may contain strings, another floats, etc.\n",
    "\n",
    "**.loadtxt()** is great for basic cases, but tends to break down when we have mixed datatypes. There is another function, **np.genfromtxt()**, which can handle such structures. If we pass **dtype = None** to it, it will figure out what types each columns shuld be.\n",
    "\n",
    "Although ***NumPy*** arrays can handle data of mixed types, the natural place for such data is the ***pandas*** DataFrame"
   ]
  },
  {
   "cell_type": "code",
   "execution_count": 3,
   "metadata": {},
   "outputs": [
    {
     "data": {
      "text/plain": [
       "array([(0, 3, 'male', 22., 1, 0, 'A/5 21171',  7.25  , '', 'S', '\"Braund'),\n",
       "       (1, 1, 'female', 38., 1, 0, 'PC 17599', 71.2833, 'C85', 'C', '\"Cumings'),\n",
       "       (1, 3, 'female', 26., 0, 0, 'STON/O2. 3101282',  7.925 , '', 'S', '\"Heikkinen'),\n",
       "       (1, 1, 'female', 35., 1, 0, '113803', 53.1   , 'C123', 'S', '\"Futrelle'),\n",
       "       (0, 3, 'male', 35., 0, 0, '373450',  8.05  , '', 'S', '\"Allen'),\n",
       "       (0, 3, 'male', nan, 0, 0, '330877',  8.4583, '', 'Q', '\"Moran'),\n",
       "       (0, 1, 'male', 54., 0, 0, '17463', 51.8625, 'E46', 'S', '\"McCarthy'),\n",
       "       (0, 3, 'male',  2., 3, 1, '349909', 21.075 , '', 'S', '\"Palsson'),\n",
       "       (1, 3, 'female', 27., 0, 2, '347742', 11.1333, '', 'S', '\"Johnson'),\n",
       "       (1, 2, 'female', 14., 1, 0, '237736', 30.0708, '', 'C', '\"Nasser')],\n",
       "      dtype=[('Survived', '<i4'), ('Pclass', '<i4'), ('Sex', '<U6'), ('Age', '<f8'), ('SibSp', '<i4'), ('Parch', '<i4'), ('Ticket', '<U18'), ('Fare', '<f8'), ('Cabin', '<U15'), ('Embarked', '<U1'), ('Name', '<U23')])"
      ]
     },
     "execution_count": 3,
     "metadata": {},
     "output_type": "execute_result"
    }
   ],
   "source": [
    "data = np.genfromtxt('titanic.csv', delimiter=',', names=True, dtype=None, encoding = 'ascii', usecols = (1,2,3,4,5,6,7,8,9,10,11))\n",
    "data[0:10]"
   ]
  },
  {
   "cell_type": "markdown",
   "metadata": {},
   "source": [
    "### Working with mixed datatypes (2)\n",
    "\n",
    "There is also **np.recfromcsv()** that behaves similarly to **np.genfromtxt()**, except that its default dtype is None. In the example above we had to explicitly specify dtype=None"
   ]
  },
  {
   "cell_type": "code",
   "execution_count": 4,
   "metadata": {},
   "outputs": [
    {
     "data": {
      "text/plain": [
       "rec.array([(0, 3, 'male', 22., 1, 0, 'A/5 21171',  7.25  , '', 'S', '\"Braund'),\n",
       "           (1, 1, 'female', 38., 1, 0, 'PC 17599', 71.2833, 'C85', 'C', '\"Cumings'),\n",
       "           (1, 3, 'female', 26., 0, 0, 'STON/O2. 3101282',  7.925 , '', 'S', '\"Heikkinen'),\n",
       "           (1, 1, 'female', 35., 1, 0, '113803', 53.1   , 'C123', 'S', '\"Futrelle'),\n",
       "           (0, 3, 'male', 35., 0, 0, '373450',  8.05  , '', 'S', '\"Allen'),\n",
       "           (0, 3, 'male', nan, 0, 0, '330877',  8.4583, '', 'Q', '\"Moran'),\n",
       "           (0, 1, 'male', 54., 0, 0, '17463', 51.8625, 'E46', 'S', '\"McCarthy'),\n",
       "           (0, 3, 'male',  2., 3, 1, '349909', 21.075 , '', 'S', '\"Palsson'),\n",
       "           (1, 3, 'female', 27., 0, 2, '347742', 11.1333, '', 'S', '\"Johnson'),\n",
       "           (1, 2, 'female', 14., 1, 0, '237736', 30.0708, '', 'C', '\"Nasser')],\n",
       "          dtype=[('survived', '<i4'), ('pclass', '<i4'), ('sex', '<U6'), ('age', '<f8'), ('sibsp', '<i4'), ('parch', '<i4'), ('ticket', '<U18'), ('fare', '<f8'), ('cabin', '<U15'), ('embarked', '<U1'), ('name', '<U23')])"
      ]
     },
     "execution_count": 4,
     "metadata": {},
     "output_type": "execute_result"
    }
   ],
   "source": [
    "data = np.recfromcsv('titanic.csv', encoding = 'ascii', usecols = (1,2,3,4,5,6,7,8,9,10,11))\n",
    "data[0:10]"
   ]
  }
 ],
 "metadata": {
  "kernelspec": {
   "display_name": "Python 3",
   "language": "python",
   "name": "python3"
  },
  "language_info": {
   "codemirror_mode": {
    "name": "ipython",
    "version": 3
   },
   "file_extension": ".py",
   "mimetype": "text/x-python",
   "name": "python",
   "nbconvert_exporter": "python",
   "pygments_lexer": "ipython3",
   "version": "3.7.3"
  }
 },
 "nbformat": 4,
 "nbformat_minor": 2
}
