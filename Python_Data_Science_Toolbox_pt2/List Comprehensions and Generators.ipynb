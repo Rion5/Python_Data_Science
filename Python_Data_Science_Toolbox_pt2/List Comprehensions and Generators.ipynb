{
 "cells": [
  {
   "cell_type": "markdown",
   "metadata": {},
   "source": [
    "# Python Data Science Toolbox Part II\n",
    "\n",
    "# List Comprehensions and Generators\n",
    "\n",
    "* **List Comprehensions**\n",
    "    * Create list from other lists, DataFrame columns, etc\n",
    "    * Single line of code\n",
    "    * **More efficient** than using a for loop\n",
    "    * List Comps may be used on any iterable"
   ]
  },
  {
   "cell_type": "code",
   "execution_count": 1,
   "metadata": {},
   "outputs": [
    {
     "name": "stdout",
     "output_type": "stream",
     "text": [
      "[3, 5, 7, 9]\n"
     ]
    }
   ],
   "source": [
    "nums = [2, 4, 6, 8]\n",
    "# For-Loop Example\n",
    "# for num in nums:\n",
    "#     if conditional:\n",
    "#         expression\n",
    "\n",
    "# List-Comprehension Example\n",
    "# new_list = [expression(i) for i in old_list if filter(i)]\n",
    "new_nums = [num + 1 for num in nums] \n",
    "print(new_nums)"
   ]
  },
  {
   "cell_type": "code",
   "execution_count": 2,
   "metadata": {},
   "outputs": [
    {
     "name": "stdout",
     "output_type": "stream",
     "text": [
      "['c', 'c', 'h', 't', 'w']\n"
     ]
    }
   ],
   "source": [
    "# Example - Given a list of names, find get the first character of each string\n",
    "names = ['chase', 'cuddy', 'house', 'thirteen', 'wilson']\n",
    "list_comp_names = [name[0] for name in names]\n",
    "print(list_comp_names)"
   ]
  },
  {
   "cell_type": "code",
   "execution_count": 3,
   "metadata": {},
   "outputs": [
    {
     "name": "stdout",
     "output_type": "stream",
     "text": [
      "[[0, 1, 2, 3, 4], [0, 1, 2, 3, 4], [0, 1, 2, 3, 4], [0, 1, 2, 3, 4], [0, 1, 2, 3, 4]]\n"
     ]
    }
   ],
   "source": [
    "#### Nested List Comprehensions\n",
    "matrix = [[0, 1, 2, 3, 4],\n",
    "          [0, 1, 2, 3, 4],\n",
    "          [0, 1, 2, 3, 4],\n",
    "          [0, 1, 2, 3, 4],\n",
    "          [0, 1, 2, 3, 4]]\n",
    "list_comp_matrix = [[col for col in range(5)] for row in range(5)]\n",
    "print(list_comp_matrix)"
   ]
  },
  {
   "cell_type": "markdown",
   "metadata": {},
   "source": [
    "## Advanced Comprehensions\n",
    "\n",
    "## Conditionals in comprehensions\n",
    "\n",
    "### Conditionals on the iterable\n",
    "\n",
    "List Comp = [ *output expression* **for** *iterator variable* **in** *iterable* **if** *predicate expression*]"
   ]
  },
  {
   "cell_type": "code",
   "execution_count": 4,
   "metadata": {},
   "outputs": [
    {
     "name": "stdout",
     "output_type": "stream",
     "text": [
      "[0, 2, 4, 6, 8]\n",
      "[0, '', 2, '', 4, '', 6, '', 8, '']\n"
     ]
    }
   ],
   "source": [
    "# new_list = [expression(i) for i in old_list if filter(i)]\n",
    "even_nums = [num for num in range(10) if num % 2 == 0]\n",
    "print(even_nums)\n",
    "\n",
    "even_nums2 = [num if num % 2 == 0 else '' for num in range(10)]\n",
    "print(even_nums2)"
   ]
  },
  {
   "cell_type": "markdown",
   "metadata": {},
   "source": [
    "In List Comprehensions you can create lists with values that meet only a certain condition. One way of doing this is by using conditionals on iterator variables.\n",
    "\n",
    "**Example 1:** Use List Comprehension, find all members who have 7 or more characters in their names"
   ]
  },
  {
   "cell_type": "code",
   "execution_count": 5,
   "metadata": {},
   "outputs": [
    {
     "name": "stdout",
     "output_type": "stream",
     "text": [
      "['frodo', 'samwise', 'merry', 'aragorn', 'legolas', 'boromir', 'gimli']\n"
     ]
    }
   ],
   "source": [
    "fellowship = ['frodo', 'samwise', 'merry', 'aragorn', 'legolas', 'boromir', 'gimli']\n",
    "new_fellowship = [member for member in fellowship if len(member)]\n",
    "print(new_fellowship)"
   ]
  },
  {
   "cell_type": "markdown",
   "metadata": {},
   "source": [
    "### Conditionals on the Output Expression\n",
    "\n",
    "In the previous example, we used an if conditional statement in the predicate expression. In this example, we will use an if-else statement on the *output expression* of the list\n",
    "\n",
    "**Example 1:** For numbers in range of 0-9, if the number is odd, return num, otherwise return 0"
   ]
  },
  {
   "cell_type": "code",
   "execution_count": 6,
   "metadata": {},
   "outputs": [
    {
     "data": {
      "text/plain": [
       "[0, 1, 0, 3, 0, 5, 0, 7, 0, 9]"
      ]
     },
     "execution_count": 6,
     "metadata": {},
     "output_type": "execute_result"
    }
   ],
   "source": [
    "my_list = [num if num % 2 == 1 else 0 for num in range(10)]\n",
    "my_list"
   ]
  },
  {
   "cell_type": "markdown",
   "metadata": {},
   "source": [
    "**Example 2:** Using List Comprehension, find all members who have 7 or more characters in their names.\n",
    "IF the number of charactersi >= 7, keep the string as is\n",
    "ELSE replace it with an empty string ('' or \"\")"
   ]
  },
  {
   "cell_type": "code",
   "execution_count": 7,
   "metadata": {},
   "outputs": [
    {
     "name": "stdout",
     "output_type": "stream",
     "text": [
      "['', 'samwise', '', 'aragorn', 'legolas', 'boromir', '']\n"
     ]
    }
   ],
   "source": [
    "fellowship = ['frodo', 'samwise', 'merry', 'aragorn', 'legolas', 'boromir', 'gimli']\n",
    "new_fellowship = [member if len(member) >= 7 else '' for member in fellowship]\n",
    "print(new_fellowship)"
   ]
  },
  {
   "cell_type": "markdown",
   "metadata": {},
   "source": [
    "### Dict Comprehensions\n",
    "\n",
    " * Creates dictionaries\n",
    " * Uses curly braces {} instead of brackets []\n",
    " \n",
    " [ *output expression* **for** *iterator variable* **in** *iterable* **if** *predicate expression* ]"
   ]
  },
  {
   "cell_type": "code",
   "execution_count": 8,
   "metadata": {},
   "outputs": [
    {
     "name": "stdout",
     "output_type": "stream",
     "text": [
      "{'frodo': 5, 'samwise': 7, 'merry': 5, 'aragorn': 7, 'legolas': 7, 'boromir': 7, 'gimli': 5}\n"
     ]
    }
   ],
   "source": [
    "# Create a Dict Comprehension where the key is a string in fellowship and the value is the length of the string.\n",
    "fellowship = ['frodo', 'samwise', 'merry', 'aragorn', 'legolas', 'boromir', 'gimli']\n",
    "\n",
    "# Create dict comprehension\n",
    "new_fellowship = {member:len(member) for member in fellowship}\n",
    "print(new_fellowship)"
   ]
  },
  {
   "cell_type": "markdown",
   "metadata": {},
   "source": [
    "# Generators\n",
    "\n",
    "### List Comprehensions vs Generators\n",
    "\n",
    "* List Comprehension - returns a list\n",
    "* Generators - Returns a generator object\n",
    "    * Generators do not store data in memory, it does not constructor the list, BUT is an object we can iterate over\n",
    "    * Use () instead of []\n",
    "    \n",
    " We have used generators in a Dictionary's .items() method. Or .range(). When we use these functions. Python creates generators behind the scenes.\n",
    "\n",
    "#### Example: Printing values from generators"
   ]
  },
  {
   "cell_type": "code",
   "execution_count": 9,
   "metadata": {},
   "outputs": [
    {
     "name": "stdout",
     "output_type": "stream",
     "text": [
      "0\n",
      "1\n",
      "2\n"
     ]
    }
   ],
   "source": [
    "# Assign a generator to result\n",
    "result = (num for num in range(6))\n",
    "\n",
    "# Looping over a generator\n",
    "# for num in result:\n",
    "#     print(num)\n",
    "    \n",
    "# Using next() to iterate over a generator\n",
    "# Known as Lazy Evaluation, where the value of the evaluation is deplayed until needed\n",
    "print(next(result))\n",
    "print(next(result))\n",
    "print(next(result))"
   ]
  },
  {
   "cell_type": "markdown",
   "metadata": {},
   "source": [
    "#### Why use Generators?\n",
    "\n",
    "Generators are useful when dealing with large sequences of data, as we won't want to store the entire list in memory. Which what List Comprehensions work. We want to generate the elements of the sequence on the fly.\n",
    "\n",
    "#### Conditionals in Generators Expressions"
   ]
  },
  {
   "cell_type": "code",
   "execution_count": 10,
   "metadata": {},
   "outputs": [
    {
     "name": "stdout",
     "output_type": "stream",
     "text": [
      "[0, 2, 4, 6, 8]\n"
     ]
    }
   ],
   "source": [
    "even_nums = (num for num in range(10) if num % 2 == 0)\n",
    "print(list(even_nums))"
   ]
  },
  {
   "cell_type": "markdown",
   "metadata": {},
   "source": [
    "### Generator Functions\n",
    "\n",
    "* Generator Functions\n",
    "    * Yields a sequence of values instead of returning a single value\n",
    "    * Generates a value with yield keyword\n",
    "    \n",
    "#### Example: Building a Generator Function"
   ]
  },
  {
   "cell_type": "code",
   "execution_count": 11,
   "metadata": {},
   "outputs": [
    {
     "name": "stdout",
     "output_type": "stream",
     "text": [
      "<generator object num_sequence at 0x000001E3EC722A20>\n",
      "0\n",
      "1\n",
      "2\n",
      "3\n",
      "4\n"
     ]
    }
   ],
   "source": [
    "def num_sequence(n):\n",
    "    '''Generate values from 0 to n'''\n",
    "    i = 0\n",
    "    while i < n:\n",
    "        yield i\n",
    "        i += 1\n",
    "\n",
    "result = num_sequence(5)\n",
    "\n",
    "print(result)\n",
    "\n",
    "for item in result:\n",
    "    print(item)"
   ]
  },
  {
   "cell_type": "code",
   "execution_count": null,
   "metadata": {},
   "outputs": [],
   "source": []
  }
 ],
 "metadata": {
  "kernelspec": {
   "display_name": "Python 3",
   "language": "python",
   "name": "python3"
  },
  "language_info": {
   "codemirror_mode": {
    "name": "ipython",
    "version": 3
   },
   "file_extension": ".py",
   "mimetype": "text/x-python",
   "name": "python",
   "nbconvert_exporter": "python",
   "pygments_lexer": "ipython3",
   "version": "3.7.3"
  }
 },
 "nbformat": 4,
 "nbformat_minor": 2
}
