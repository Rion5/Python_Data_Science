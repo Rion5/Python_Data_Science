{
 "cells": [
  {
   "cell_type": "markdown",
   "metadata": {},
   "source": [
    "# Python Data Science Toolbox Part II\n",
    "\n",
    "## List Comprehensions and Generators\n",
    "\n",
    "* **List Comprehensions**\n",
    "    * Create list from other lists, DataFrame columns, etc\n",
    "    * Single line of code\n",
    "    * **More efficient** than using a for loop\n",
    "    * List Comps may be used on any iterable"
   ]
  },
  {
   "cell_type": "code",
   "execution_count": 1,
   "metadata": {},
   "outputs": [
    {
     "name": "stdout",
     "output_type": "stream",
     "text": [
      "[3, 5, 7, 9]\n"
     ]
    }
   ],
   "source": [
    "nums = [2, 4, 6, 8]\n",
    "# For-Loop Example\n",
    "# for num in nums:\n",
    "#     if conditional:\n",
    "#         expression\n",
    "\n",
    "# List-Comprehension Example\n",
    "# new_list = [expression(i) for i in old_list if filter(i)]\n",
    "new_nums = [num + 1 for num in nums] \n",
    "print(new_nums)"
   ]
  },
  {
   "cell_type": "code",
   "execution_count": 2,
   "metadata": {},
   "outputs": [
    {
     "name": "stdout",
     "output_type": "stream",
     "text": [
      "['c', 'c', 'h', 't', 'w']\n"
     ]
    }
   ],
   "source": [
    "# Example - Given a list of names, find get the first character of each string\n",
    "names = ['chase', 'cuddy', 'house', 'thirteen', 'wilson']\n",
    "list_comp_names = [name[0] for name in names]\n",
    "print(list_comp_names)"
   ]
  },
  {
   "cell_type": "code",
   "execution_count": 3,
   "metadata": {},
   "outputs": [
    {
     "name": "stdout",
     "output_type": "stream",
     "text": [
      "[[0, 1, 2, 3, 4], [0, 1, 2, 3, 4], [0, 1, 2, 3, 4], [0, 1, 2, 3, 4], [0, 1, 2, 3, 4]]\n"
     ]
    }
   ],
   "source": [
    "#### Nested List Comprehensions\n",
    "matrix = [[0, 1, 2, 3, 4],\n",
    "          [0, 1, 2, 3, 4],\n",
    "          [0, 1, 2, 3, 4],\n",
    "          [0, 1, 2, 3, 4],\n",
    "          [0, 1, 2, 3, 4]]\n",
    "list_comp_matrix = [[col for col in range(5)] for row in range(5)]\n",
    "print(list_comp_matrix)"
   ]
  },
  {
   "cell_type": "markdown",
   "metadata": {},
   "source": [
    "## Advanced Comprehensions\n",
    "\n",
    "## Conditionals in comprehensions\n",
    "\n",
    "### Conditionals on the iterable"
   ]
  },
  {
   "cell_type": "code",
   "execution_count": 4,
   "metadata": {},
   "outputs": [
    {
     "name": "stdout",
     "output_type": "stream",
     "text": [
      "[0, 2, 4, 6, 8]\n"
     ]
    }
   ],
   "source": [
    "# new_list = [expression(i) for i in old_list if filter(i)]\n",
    "even_nums = [num for num in range(10) if num % 2 == 0]\n",
    "print(even_nums)"
   ]
  },
  {
   "cell_type": "code",
   "execution_count": 5,
   "metadata": {},
   "outputs": [
    {
     "name": "stdout",
     "output_type": "stream",
     "text": [
      "['frodo', 'samwise', 'merry', 'aragorn', 'legolas', 'boromir', 'gimli']\n"
     ]
    }
   ],
   "source": [
    "# Example: Using List Comprehension, find all members who have 7 or more characters in their names\n",
    "fellowship = ['frodo', 'samwise', 'merry', 'aragorn', 'legolas', 'boromir', 'gimli']\n",
    "new_fellowship = [member for member in fellowship if len(member)]\n",
    "print(new_fellowship)"
   ]
  },
  {
   "cell_type": "markdown",
   "metadata": {},
   "source": [
    "### Conditionals on the Output Expression"
   ]
  },
  {
   "cell_type": "code",
   "execution_count": 6,
   "metadata": {},
   "outputs": [
    {
     "data": {
      "text/plain": [
       "[0, 1, 0, 3, 0, 5, 0, 7, 0, 9]"
      ]
     },
     "execution_count": 6,
     "metadata": {},
     "output_type": "execute_result"
    }
   ],
   "source": [
    "# For numbers in range of 0-9, if the number is odd, return num, otherise return 0\n",
    "my_list = [num if num % 2 == 1 else 0 for num in range(10)]\n",
    "my_list"
   ]
  },
  {
   "cell_type": "code",
   "execution_count": 11,
   "metadata": {},
   "outputs": [
    {
     "name": "stdout",
     "output_type": "stream",
     "text": [
      "['', 'samwise', '', 'aragorn', 'legolas', 'boromir', '']\n"
     ]
    }
   ],
   "source": [
    "# Example: Using List Comprehension, find all members who have 7 or more characters in their names. \n",
    "# Keep the string as is IF the number of characters is >= 7 ELSE replace it with an empty string ('' or \"\")\n",
    "fellowship = ['frodo', 'samwise', 'merry', 'aragorn', 'legolas', 'boromir', 'gimli']\n",
    "new_fellowship = [member if len(member) >= 7 else '' for member in fellowship]\n",
    "print(new_fellowship)"
   ]
  },
  {
   "cell_type": "markdown",
   "metadata": {},
   "source": [
    "### Dict Comprehensions\n",
    "\n",
    " * Creates dictionaries\n",
    " * Uses curly braces {} instead of brackets []\n",
    " \n",
    " [ *output expression* **for** *iterator variable* **in** *iterable* **if** *predicate expression* ]"
   ]
  },
  {
   "cell_type": "code",
   "execution_count": null,
   "metadata": {},
   "outputs": [],
   "source": [
    "# Create a Dict Comprehension where the key is a string in fellowship and the value is the length of the string.\n",
    "fellowship = ['frodo', 'samwise', 'merry', 'aragorn', 'legolas', 'boromir', 'gimli']\n",
    "\n",
    "# Create dict comprehension\n",
    "new_fellowship = {for member in fellows}"
   ]
  }
 ],
 "metadata": {
  "kernelspec": {
   "display_name": "Python 3",
   "language": "python",
   "name": "python3"
  },
  "language_info": {
   "codemirror_mode": {
    "name": "ipython",
    "version": 3
   },
   "file_extension": ".py",
   "mimetype": "text/x-python",
   "name": "python",
   "nbconvert_exporter": "python",
   "pygments_lexer": "ipython3",
   "version": "3.7.3"
  }
 },
 "nbformat": 4,
 "nbformat_minor": 2
}
