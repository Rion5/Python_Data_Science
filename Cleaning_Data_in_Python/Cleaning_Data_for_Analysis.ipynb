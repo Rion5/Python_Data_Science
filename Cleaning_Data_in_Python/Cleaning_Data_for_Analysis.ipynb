{
 "cells": [
  {
   "cell_type": "markdown",
   "metadata": {},
   "source": [
    "# Cleaning Data for Analysis\n",
    "\n",
    "## Data Types\n",
    "\n",
    "There may be times we want to convert from one data type to another\n",
    "\n",
    "**Categorical Data**\n",
    "\n",
    "Columns that contain categorical data, such as Male / Female can be converting into 'category' dtype\n",
    "* Can make the DataFrame smaller in memory\n",
    "* Can make them be utilized by other Python libraries"
   ]
  },
  {
   "cell_type": "code",
   "execution_count": 1,
   "metadata": {},
   "outputs": [
    {
     "name": "stdout",
     "output_type": "stream",
     "text": [
      "<class 'pandas.core.frame.DataFrame'>\n",
      "RangeIndex: 244 entries, 0 to 243\n",
      "Data columns (total 7 columns):\n",
      "total_bill    244 non-null float64\n",
      "tip           244 non-null float64\n",
      "sex           244 non-null object\n",
      "smoker        244 non-null object\n",
      "day           244 non-null object\n",
      "time          244 non-null object\n",
      "size          244 non-null int64\n",
      "dtypes: float64(2), int64(1), object(4)\n",
      "memory usage: 13.4+ KB\n"
     ]
    }
   ],
   "source": [
    "import pandas as pd\n",
    "df = pd.read_csv('https://assets.datacamp.com/production/repositories/666/datasets/b064fa9e0684a38ac15b0a19845367c29fde978d/tips.csv')\n",
    "df.info()"
   ]
  },
  {
   "cell_type": "code",
   "execution_count": 2,
   "metadata": {},
   "outputs": [
    {
     "name": "stdout",
     "output_type": "stream",
     "text": [
      "<class 'pandas.core.frame.DataFrame'>\n",
      "RangeIndex: 244 entries, 0 to 243\n",
      "Data columns (total 7 columns):\n",
      "total_bill    244 non-null float64\n",
      "tip           244 non-null float64\n",
      "sex           244 non-null category\n",
      "smoker        244 non-null bool\n",
      "day           244 non-null object\n",
      "time          244 non-null object\n",
      "size          244 non-null int64\n",
      "dtypes: bool(1), category(1), float64(2), int64(1), object(2)\n",
      "memory usage: 10.2+ KB\n"
     ]
    }
   ],
   "source": [
    "# Converting Data Types\n",
    "df['smoker'] = df['smoker'].astype('bool')\n",
    "df['sex'] = df['sex'].astype('category')\n",
    "df.info()"
   ]
  },
  {
   "cell_type": "markdown",
   "metadata": {},
   "source": [
    "### Converting Data Types\n",
    "* Numeric data loaded as a string, usually a sign of bad data that needs to be cleaned"
   ]
  },
  {
   "cell_type": "code",
   "execution_count": 3,
   "metadata": {},
   "outputs": [
    {
     "data": {
      "text/plain": [
       "total_bill     float64\n",
       "tip            float64\n",
       "sex           category\n",
       "smoker            bool\n",
       "day             object\n",
       "time            object\n",
       "size             int64\n",
       "dtype: object"
      ]
     },
     "execution_count": 3,
     "metadata": {},
     "output_type": "execute_result"
    }
   ],
   "source": [
    "# Converting total_bill into a numeric dtype\n",
    "# errors='coerce' will set invalid values as NaN\n",
    "df['total_bill'] = pd.to_numeric(df['total_bill'], errors='coerce')\n",
    "df['tip'] = pd.to_numeric(df['tip'], errors='coerce')\n",
    "df.dtypes"
   ]
  },
  {
   "cell_type": "markdown",
   "metadata": {},
   "source": [
    "## String Manipulation\n",
    "\n",
    "* Much of data cleaning involves string manipulation\n",
    "* Most of the world's data is unstructured text\n",
    "* Python has many built-in and external libraries\n",
    "* 're' library for regular expressions\n",
    "\n",
    "### Regular Expression Match Example\n",
    "\n",
    "***** - Matches it zero or more times\n",
    "\n",
    "**{2}** - Matches exactly 2 values\n",
    "\n",
    "**^** - Caret will tell the pattern to start the pattern match th a the beginning of value\n",
    "\n",
    "**$** - Will tell the pattern to match at the end of the value\n",
    "\n",
    "|Value      |Pattern Matched    |Regular Expression|\n",
    "|-----------|-------------------|------------------|\n",
    "|17         |12345678901        |\\d*               |\n",
    "|\\$17       |\\$12345678901      |\\ $\\d*            |\n",
    "|\\$17.00    |\\$12345678901.24   |\\ \\$\\d*\\\\.\\d *    |\n",
    "|\\$17.89    |\\$12345678901.24   |\\ \\$\\d*\\\\.\\d{2}   |\n",
    "|\\$17.895   |\\$12345678901.999  |^\\\\$\\d*\\\\.\\d{2}\\$ |\n",
    "\n",
    "#### Using Regular Expressions\n",
    "\n",
    "* Compile the pattern\n",
    "* Use the compiled pattern to match values\n",
    "* This lets use use the pattern over and over again\n",
    "* Useful since we want to match values down a column of values"
   ]
  },
  {
   "cell_type": "code",
   "execution_count": 4,
   "metadata": {},
   "outputs": [
    {
     "name": "stdout",
     "output_type": "stream",
     "text": [
      "True\n",
      "False\n"
     ]
    }
   ],
   "source": [
    "import re\n",
    "\n",
    "# RegEx Pattern - Match a Phone Number in the format of xxx-xxx-xxxx\n",
    "pattern = re.compile('\\d{3}\\-\\d{3}\\-\\d{4}')\n",
    "\n",
    "# See if the pattern matches\n",
    "result = pattern.match('123-456-7890')\n",
    "result2 = pattern.match('1123-456-7890')\n",
    "\n",
    "print(f'{bool(result)}')\n",
    "print(f'{bool(result2)}')"
   ]
  },
  {
   "cell_type": "code",
   "execution_count": 5,
   "metadata": {},
   "outputs": [
    {
     "name": "stdout",
     "output_type": "stream",
     "text": [
      "['10', '3']\n"
     ]
    }
   ],
   "source": [
    "# Find the numeric values in a string\n",
    "matches = re.findall('\\d+', 'The Recipe calls for 10 apples and 3 bananas') \n",
    "print(matches)"
   ]
  },
  {
   "cell_type": "code",
   "execution_count": 6,
   "metadata": {},
   "outputs": [
    {
     "name": "stdout",
     "output_type": "stream",
     "text": [
      "American\n"
     ]
    }
   ],
   "source": [
    "# Find the capital letter, followed by any number of alphanumeric characters, for the word\n",
    "result = re.match(pattern='[A-Z]\\w*', string='American Eagle 1977')\n",
    "print(result.group())"
   ]
  },
  {
   "cell_type": "markdown",
   "metadata": {},
   "source": [
    "## Using Functions to Clean Data\n",
    "\n",
    "**Complex Cleaning**\n",
    "* Cleaning step requires multiple steps\n",
    "    * IE: Extract number from string\n",
    "    * Perform transformation on extracted number\n",
    "* Python Functions can be used\n",
    "\n",
    "**Example 1**"
   ]
  },
  {
   "cell_type": "code",
   "execution_count": 7,
   "metadata": {},
   "outputs": [],
   "source": [
    "def calculate_tip_percentage_of_total_bill(row):\n",
    "    tip_amount = row['tip']\n",
    "    total_bill = row['total_bill']\n",
    "    tip_percentage_of_total_bill = (tip_amount / total_bill) * 100\n",
    "    return tip_percentage_of_total_bill"
   ]
  },
  {
   "cell_type": "code",
   "execution_count": 8,
   "metadata": {},
   "outputs": [
    {
     "name": "stdout",
     "output_type": "stream",
     "text": [
      "   total_bill   tip     sex  smoker  day    time  size  tip_percentage\n",
      "0       16.99  1.01  Female    True  Sun  Dinner     2        5.944673\n",
      "1       10.34  1.66    Male    True  Sun  Dinner     3       16.054159\n",
      "2       21.01  3.50    Male    True  Sun  Dinner     3       16.658734\n",
      "3       23.68  3.31    Male    True  Sun  Dinner     2       13.978041\n",
      "4       24.59  3.61  Female    True  Sun  Dinner     4       14.680765\n"
     ]
    }
   ],
   "source": [
    "# Note: By default .apply() will work column-wise as 'axis=0',\n",
    "# 'axis=1' specifies running it row-wise\n",
    "df['tip_percentage'] = df.apply(calculate_tip_percentage_of_total_bill,\n",
    "                                             axis=1)\n",
    "print(df.head())"
   ]
  },
  {
   "cell_type": "markdown",
   "metadata": {},
   "source": [
    "**Example 2:** Update 'sex' column so that Female = 0, and Male = 1"
   ]
  },
  {
   "cell_type": "code",
   "execution_count": 9,
   "metadata": {},
   "outputs": [
    {
     "name": "stdout",
     "output_type": "stream",
     "text": [
      "   total_bill   tip     sex  smoker  day    time  size  tip_percentage  \\\n",
      "0       16.99  1.01  Female    True  Sun  Dinner     2        5.944673   \n",
      "1       10.34  1.66    Male    True  Sun  Dinner     3       16.054159   \n",
      "2       21.01  3.50    Male    True  Sun  Dinner     3       16.658734   \n",
      "3       23.68  3.31    Male    True  Sun  Dinner     2       13.978041   \n",
      "4       24.59  3.61  Female    True  Sun  Dinner     4       14.680765   \n",
      "\n",
      "  gender_code  \n",
      "0           0  \n",
      "1           1  \n",
      "2           1  \n",
      "3           1  \n",
      "4           0  \n"
     ]
    }
   ],
   "source": [
    "def update_gender_column(gender):\n",
    "    if gender == 'Female':\n",
    "        return 0\n",
    "    elif gender == 'Male':\n",
    "        return 1\n",
    "    else:\n",
    "        return np.nan\n",
    "    \n",
    "df['gender_code'] = df['sex'].apply(update_gender_column)\n",
    "print(df.head())"
   ]
  },
  {
   "cell_type": "markdown",
   "metadata": {},
   "source": [
    "## Duplicate and Missing Data\n",
    "\n",
    "### Duplicates\n",
    "* Can skew results\n",
    "* We can drop duplicates using .drop_duplicates() method\n",
    "\n",
    "**Drop Dpulicates**\n",
    "```python\n",
    "df = df.drop_duplicates()\n",
    "```"
   ]
  },
  {
   "cell_type": "markdown",
   "metadata": {},
   "source": [
    "### Missing Values"
   ]
  },
  {
   "cell_type": "code",
   "execution_count": 10,
   "metadata": {},
   "outputs": [
    {
     "data": {
      "text/html": [
       "<div>\n",
       "<style scoped>\n",
       "    .dataframe tbody tr th:only-of-type {\n",
       "        vertical-align: middle;\n",
       "    }\n",
       "\n",
       "    .dataframe tbody tr th {\n",
       "        vertical-align: top;\n",
       "    }\n",
       "\n",
       "    .dataframe thead th {\n",
       "        text-align: right;\n",
       "    }\n",
       "</style>\n",
       "<table border=\"1\" class=\"dataframe\">\n",
       "  <thead>\n",
       "    <tr style=\"text-align: right;\">\n",
       "      <th></th>\n",
       "      <th>PassengerId</th>\n",
       "      <th>Survived</th>\n",
       "      <th>Pclass</th>\n",
       "      <th>Sex</th>\n",
       "      <th>Age</th>\n",
       "      <th>SibSp</th>\n",
       "      <th>Parch</th>\n",
       "      <th>Ticket</th>\n",
       "      <th>Fare</th>\n",
       "      <th>Cabin</th>\n",
       "      <th>Embarked</th>\n",
       "      <th>Name</th>\n",
       "    </tr>\n",
       "  </thead>\n",
       "  <tbody>\n",
       "    <tr>\n",
       "      <th>886</th>\n",
       "      <td>887</td>\n",
       "      <td>0</td>\n",
       "      <td>2</td>\n",
       "      <td>male</td>\n",
       "      <td>27.0</td>\n",
       "      <td>0</td>\n",
       "      <td>0</td>\n",
       "      <td>211536</td>\n",
       "      <td>13.00</td>\n",
       "      <td>NaN</td>\n",
       "      <td>S</td>\n",
       "      <td>Montvila, Rev. Juozas</td>\n",
       "    </tr>\n",
       "    <tr>\n",
       "      <th>887</th>\n",
       "      <td>888</td>\n",
       "      <td>1</td>\n",
       "      <td>1</td>\n",
       "      <td>female</td>\n",
       "      <td>19.0</td>\n",
       "      <td>0</td>\n",
       "      <td>0</td>\n",
       "      <td>112053</td>\n",
       "      <td>30.00</td>\n",
       "      <td>B42</td>\n",
       "      <td>S</td>\n",
       "      <td>Graham, Miss. Margaret Edith</td>\n",
       "    </tr>\n",
       "    <tr>\n",
       "      <th>888</th>\n",
       "      <td>889</td>\n",
       "      <td>0</td>\n",
       "      <td>3</td>\n",
       "      <td>female</td>\n",
       "      <td>NaN</td>\n",
       "      <td>1</td>\n",
       "      <td>2</td>\n",
       "      <td>W./C. 6607</td>\n",
       "      <td>23.45</td>\n",
       "      <td>NaN</td>\n",
       "      <td>S</td>\n",
       "      <td>Johnston, Miss. Catherine Helen \"Carrie\"</td>\n",
       "    </tr>\n",
       "    <tr>\n",
       "      <th>889</th>\n",
       "      <td>890</td>\n",
       "      <td>1</td>\n",
       "      <td>1</td>\n",
       "      <td>male</td>\n",
       "      <td>26.0</td>\n",
       "      <td>0</td>\n",
       "      <td>0</td>\n",
       "      <td>111369</td>\n",
       "      <td>30.00</td>\n",
       "      <td>C148</td>\n",
       "      <td>C</td>\n",
       "      <td>Behr, Mr. Karl Howell</td>\n",
       "    </tr>\n",
       "    <tr>\n",
       "      <th>890</th>\n",
       "      <td>891</td>\n",
       "      <td>0</td>\n",
       "      <td>3</td>\n",
       "      <td>male</td>\n",
       "      <td>32.0</td>\n",
       "      <td>0</td>\n",
       "      <td>0</td>\n",
       "      <td>370376</td>\n",
       "      <td>7.75</td>\n",
       "      <td>NaN</td>\n",
       "      <td>Q</td>\n",
       "      <td>Dooley, Mr. Patrick</td>\n",
       "    </tr>\n",
       "  </tbody>\n",
       "</table>\n",
       "</div>"
      ],
      "text/plain": [
       "     PassengerId  Survived  Pclass     Sex   Age  SibSp  Parch      Ticket  \\\n",
       "886          887         0       2    male  27.0      0      0      211536   \n",
       "887          888         1       1  female  19.0      0      0      112053   \n",
       "888          889         0       3  female   NaN      1      2  W./C. 6607   \n",
       "889          890         1       1    male  26.0      0      0      111369   \n",
       "890          891         0       3    male  32.0      0      0      370376   \n",
       "\n",
       "      Fare Cabin Embarked                                      Name  \n",
       "886  13.00   NaN        S                     Montvila, Rev. Juozas  \n",
       "887  30.00   B42        S              Graham, Miss. Margaret Edith  \n",
       "888  23.45   NaN        S  Johnston, Miss. Catherine Helen \"Carrie\"  \n",
       "889  30.00  C148        C                     Behr, Mr. Karl Howell  \n",
       "890   7.75   NaN        Q                       Dooley, Mr. Patrick  "
      ]
     },
     "execution_count": 10,
     "metadata": {},
     "output_type": "execute_result"
    }
   ],
   "source": [
    "file = 'sample_data/titanic.csv'\n",
    "df = pd.read_csv(file)\n",
    "df.tail()"
   ]
  },
  {
   "cell_type": "code",
   "execution_count": 11,
   "metadata": {},
   "outputs": [
    {
     "name": "stdout",
     "output_type": "stream",
     "text": [
      "<class 'pandas.core.frame.DataFrame'>\n",
      "RangeIndex: 891 entries, 0 to 890\n",
      "Data columns (total 12 columns):\n",
      "PassengerId    891 non-null int64\n",
      "Survived       891 non-null int64\n",
      "Pclass         891 non-null int64\n",
      "Sex            891 non-null object\n",
      "Age            714 non-null float64\n",
      "SibSp          891 non-null int64\n",
      "Parch          891 non-null int64\n",
      "Ticket         891 non-null object\n",
      "Fare           891 non-null float64\n",
      "Cabin          204 non-null object\n",
      "Embarked       889 non-null object\n",
      "Name           891 non-null object\n",
      "dtypes: float64(2), int64(5), object(5)\n",
      "memory usage: 83.6+ KB\n"
     ]
    }
   ],
   "source": [
    "# Notice we have 891 entries, but many columns are missing entries. \n",
    "# For example, Age and Cabin are the 2 columnsw with the most missing data\n",
    "df.info()"
   ]
  },
  {
   "cell_type": "code",
   "execution_count": 12,
   "metadata": {},
   "outputs": [
    {
     "data": {
      "text/html": [
       "<div>\n",
       "<style scoped>\n",
       "    .dataframe tbody tr th:only-of-type {\n",
       "        vertical-align: middle;\n",
       "    }\n",
       "\n",
       "    .dataframe tbody tr th {\n",
       "        vertical-align: top;\n",
       "    }\n",
       "\n",
       "    .dataframe thead th {\n",
       "        text-align: right;\n",
       "    }\n",
       "</style>\n",
       "<table border=\"1\" class=\"dataframe\">\n",
       "  <thead>\n",
       "    <tr style=\"text-align: right;\">\n",
       "      <th></th>\n",
       "      <th>PassengerId</th>\n",
       "      <th>Survived</th>\n",
       "      <th>Pclass</th>\n",
       "      <th>Sex</th>\n",
       "      <th>Age</th>\n",
       "      <th>SibSp</th>\n",
       "      <th>Parch</th>\n",
       "      <th>Ticket</th>\n",
       "      <th>Fare</th>\n",
       "      <th>Cabin</th>\n",
       "      <th>Embarked</th>\n",
       "      <th>Name</th>\n",
       "    </tr>\n",
       "  </thead>\n",
       "  <tbody>\n",
       "    <tr>\n",
       "      <th>886</th>\n",
       "      <td>887</td>\n",
       "      <td>0</td>\n",
       "      <td>2</td>\n",
       "      <td>male</td>\n",
       "      <td>27.0</td>\n",
       "      <td>0</td>\n",
       "      <td>0</td>\n",
       "      <td>211536</td>\n",
       "      <td>13.00</td>\n",
       "      <td>missing</td>\n",
       "      <td>S</td>\n",
       "      <td>Montvila, Rev. Juozas</td>\n",
       "    </tr>\n",
       "    <tr>\n",
       "      <th>887</th>\n",
       "      <td>888</td>\n",
       "      <td>1</td>\n",
       "      <td>1</td>\n",
       "      <td>female</td>\n",
       "      <td>19.0</td>\n",
       "      <td>0</td>\n",
       "      <td>0</td>\n",
       "      <td>112053</td>\n",
       "      <td>30.00</td>\n",
       "      <td>B42</td>\n",
       "      <td>S</td>\n",
       "      <td>Graham, Miss. Margaret Edith</td>\n",
       "    </tr>\n",
       "    <tr>\n",
       "      <th>888</th>\n",
       "      <td>889</td>\n",
       "      <td>0</td>\n",
       "      <td>3</td>\n",
       "      <td>female</td>\n",
       "      <td>NaN</td>\n",
       "      <td>1</td>\n",
       "      <td>2</td>\n",
       "      <td>W./C. 6607</td>\n",
       "      <td>23.45</td>\n",
       "      <td>missing</td>\n",
       "      <td>S</td>\n",
       "      <td>Johnston, Miss. Catherine Helen \"Carrie\"</td>\n",
       "    </tr>\n",
       "    <tr>\n",
       "      <th>889</th>\n",
       "      <td>890</td>\n",
       "      <td>1</td>\n",
       "      <td>1</td>\n",
       "      <td>male</td>\n",
       "      <td>26.0</td>\n",
       "      <td>0</td>\n",
       "      <td>0</td>\n",
       "      <td>111369</td>\n",
       "      <td>30.00</td>\n",
       "      <td>C148</td>\n",
       "      <td>C</td>\n",
       "      <td>Behr, Mr. Karl Howell</td>\n",
       "    </tr>\n",
       "    <tr>\n",
       "      <th>890</th>\n",
       "      <td>891</td>\n",
       "      <td>0</td>\n",
       "      <td>3</td>\n",
       "      <td>male</td>\n",
       "      <td>32.0</td>\n",
       "      <td>0</td>\n",
       "      <td>0</td>\n",
       "      <td>370376</td>\n",
       "      <td>7.75</td>\n",
       "      <td>missing</td>\n",
       "      <td>Q</td>\n",
       "      <td>Dooley, Mr. Patrick</td>\n",
       "    </tr>\n",
       "  </tbody>\n",
       "</table>\n",
       "</div>"
      ],
      "text/plain": [
       "     PassengerId  Survived  Pclass     Sex   Age  SibSp  Parch      Ticket  \\\n",
       "886          887         0       2    male  27.0      0      0      211536   \n",
       "887          888         1       1  female  19.0      0      0      112053   \n",
       "888          889         0       3  female   NaN      1      2  W./C. 6607   \n",
       "889          890         1       1    male  26.0      0      0      111369   \n",
       "890          891         0       3    male  32.0      0      0      370376   \n",
       "\n",
       "      Fare    Cabin Embarked                                      Name  \n",
       "886  13.00  missing        S                     Montvila, Rev. Juozas  \n",
       "887  30.00      B42        S              Graham, Miss. Margaret Edith  \n",
       "888  23.45  missing        S  Johnston, Miss. Catherine Helen \"Carrie\"  \n",
       "889  30.00     C148        C                     Behr, Mr. Karl Howell  \n",
       "890   7.75  missing        Q                       Dooley, Mr. Patrick  "
      ]
     },
     "execution_count": 12,
     "metadata": {},
     "output_type": "execute_result"
    }
   ],
   "source": [
    "df['Cabin'] = df['Cabin'].fillna('missing')\n",
    "df.tail()"
   ]
  },
  {
   "cell_type": "markdown",
   "metadata": {},
   "source": [
    "#### Filling Missing Data\n",
    "Since we have 714 / 891 entries in the 'Age' column, one way to deal with missing data is to find the mean value and use that where we have missing data. It might not be accurate, but certain calculations can not handle missing values."
   ]
  },
  {
   "cell_type": "code",
   "execution_count": 13,
   "metadata": {},
   "outputs": [
    {
     "data": {
      "text/plain": [
       "29.69911764705882"
      ]
     },
     "execution_count": 13,
     "metadata": {},
     "output_type": "execute_result"
    }
   ],
   "source": [
    "import numpy as np\n",
    "age_mean = np.mean(df['Age'])\n",
    "age_mean"
   ]
  },
  {
   "cell_type": "code",
   "execution_count": 14,
   "metadata": {},
   "outputs": [
    {
     "data": {
      "text/html": [
       "<div>\n",
       "<style scoped>\n",
       "    .dataframe tbody tr th:only-of-type {\n",
       "        vertical-align: middle;\n",
       "    }\n",
       "\n",
       "    .dataframe tbody tr th {\n",
       "        vertical-align: top;\n",
       "    }\n",
       "\n",
       "    .dataframe thead th {\n",
       "        text-align: right;\n",
       "    }\n",
       "</style>\n",
       "<table border=\"1\" class=\"dataframe\">\n",
       "  <thead>\n",
       "    <tr style=\"text-align: right;\">\n",
       "      <th></th>\n",
       "      <th>PassengerId</th>\n",
       "      <th>Survived</th>\n",
       "      <th>Pclass</th>\n",
       "      <th>Sex</th>\n",
       "      <th>Age</th>\n",
       "      <th>SibSp</th>\n",
       "      <th>Parch</th>\n",
       "      <th>Ticket</th>\n",
       "      <th>Fare</th>\n",
       "      <th>Cabin</th>\n",
       "      <th>Embarked</th>\n",
       "      <th>Name</th>\n",
       "    </tr>\n",
       "  </thead>\n",
       "  <tbody>\n",
       "    <tr>\n",
       "      <th>886</th>\n",
       "      <td>887</td>\n",
       "      <td>0</td>\n",
       "      <td>2</td>\n",
       "      <td>male</td>\n",
       "      <td>27.000000</td>\n",
       "      <td>0</td>\n",
       "      <td>0</td>\n",
       "      <td>211536</td>\n",
       "      <td>13.00</td>\n",
       "      <td>missing</td>\n",
       "      <td>S</td>\n",
       "      <td>Montvila, Rev. Juozas</td>\n",
       "    </tr>\n",
       "    <tr>\n",
       "      <th>887</th>\n",
       "      <td>888</td>\n",
       "      <td>1</td>\n",
       "      <td>1</td>\n",
       "      <td>female</td>\n",
       "      <td>19.000000</td>\n",
       "      <td>0</td>\n",
       "      <td>0</td>\n",
       "      <td>112053</td>\n",
       "      <td>30.00</td>\n",
       "      <td>B42</td>\n",
       "      <td>S</td>\n",
       "      <td>Graham, Miss. Margaret Edith</td>\n",
       "    </tr>\n",
       "    <tr>\n",
       "      <th>888</th>\n",
       "      <td>889</td>\n",
       "      <td>0</td>\n",
       "      <td>3</td>\n",
       "      <td>female</td>\n",
       "      <td>29.699118</td>\n",
       "      <td>1</td>\n",
       "      <td>2</td>\n",
       "      <td>W./C. 6607</td>\n",
       "      <td>23.45</td>\n",
       "      <td>missing</td>\n",
       "      <td>S</td>\n",
       "      <td>Johnston, Miss. Catherine Helen \"Carrie\"</td>\n",
       "    </tr>\n",
       "    <tr>\n",
       "      <th>889</th>\n",
       "      <td>890</td>\n",
       "      <td>1</td>\n",
       "      <td>1</td>\n",
       "      <td>male</td>\n",
       "      <td>26.000000</td>\n",
       "      <td>0</td>\n",
       "      <td>0</td>\n",
       "      <td>111369</td>\n",
       "      <td>30.00</td>\n",
       "      <td>C148</td>\n",
       "      <td>C</td>\n",
       "      <td>Behr, Mr. Karl Howell</td>\n",
       "    </tr>\n",
       "    <tr>\n",
       "      <th>890</th>\n",
       "      <td>891</td>\n",
       "      <td>0</td>\n",
       "      <td>3</td>\n",
       "      <td>male</td>\n",
       "      <td>32.000000</td>\n",
       "      <td>0</td>\n",
       "      <td>0</td>\n",
       "      <td>370376</td>\n",
       "      <td>7.75</td>\n",
       "      <td>missing</td>\n",
       "      <td>Q</td>\n",
       "      <td>Dooley, Mr. Patrick</td>\n",
       "    </tr>\n",
       "  </tbody>\n",
       "</table>\n",
       "</div>"
      ],
      "text/plain": [
       "     PassengerId  Survived  Pclass     Sex        Age  SibSp  Parch  \\\n",
       "886          887         0       2    male  27.000000      0      0   \n",
       "887          888         1       1  female  19.000000      0      0   \n",
       "888          889         0       3  female  29.699118      1      2   \n",
       "889          890         1       1    male  26.000000      0      0   \n",
       "890          891         0       3    male  32.000000      0      0   \n",
       "\n",
       "         Ticket   Fare    Cabin Embarked  \\\n",
       "886      211536  13.00  missing        S   \n",
       "887      112053  30.00      B42        S   \n",
       "888  W./C. 6607  23.45  missing        S   \n",
       "889      111369  30.00     C148        C   \n",
       "890      370376   7.75  missing        Q   \n",
       "\n",
       "                                         Name  \n",
       "886                     Montvila, Rev. Juozas  \n",
       "887              Graham, Miss. Margaret Edith  \n",
       "888  Johnston, Miss. Catherine Helen \"Carrie\"  \n",
       "889                     Behr, Mr. Karl Howell  \n",
       "890                       Dooley, Mr. Patrick  "
      ]
     },
     "execution_count": 14,
     "metadata": {},
     "output_type": "execute_result"
    }
   ],
   "source": [
    "# Notice PassengerId 889 has their previously NaN value, updated to the Age's mean\n",
    "df['Age'] = df['Age'].fillna(age_mean)\n",
    "df.tail()"
   ]
  },
  {
   "cell_type": "markdown",
   "metadata": {},
   "source": [
    "## Testing with Asserts\n",
    "* Use Asserts to Programmatically vs visually checking\n",
    "* If we drop or fill NaNs, we expect 0 missing values\n",
    "* We can write an assert statement to verify this\n",
    "* We can detect early warnings and errors\n",
    "* This gives us confidence that our code is running correctly\n",
    "\n",
    "### How Asserts work"
   ]
  },
  {
   "cell_type": "code",
   "execution_count": 15,
   "metadata": {},
   "outputs": [
    {
     "ename": "AssertionError",
     "evalue": "",
     "output_type": "error",
     "traceback": [
      "\u001b[1;31m---------------------------------------------------------------------------\u001b[0m",
      "\u001b[1;31mAssertionError\u001b[0m                            Traceback (most recent call last)",
      "\u001b[1;32m<ipython-input-15-ca525b181386>\u001b[0m in \u001b[0;36m<module>\u001b[1;34m\u001b[0m\n\u001b[0;32m      2\u001b[0m \u001b[1;32massert\u001b[0m \u001b[1;36m1\u001b[0m \u001b[1;33m==\u001b[0m \u001b[1;36m1\u001b[0m\u001b[1;33m\u001b[0m\u001b[1;33m\u001b[0m\u001b[0m\n\u001b[0;32m      3\u001b[0m \u001b[1;31m# If false, returns an error\u001b[0m\u001b[1;33m\u001b[0m\u001b[1;33m\u001b[0m\u001b[1;33m\u001b[0m\u001b[0m\n\u001b[1;32m----> 4\u001b[1;33m \u001b[1;32massert\u001b[0m \u001b[1;36m1\u001b[0m \u001b[1;33m==\u001b[0m \u001b[1;36m2\u001b[0m\u001b[1;33m\u001b[0m\u001b[1;33m\u001b[0m\u001b[0m\n\u001b[0m",
      "\u001b[1;31mAssertionError\u001b[0m: "
     ]
    }
   ],
   "source": [
    "# If true, nothing is returned\n",
    "assert 1 == 1\n",
    "# If false, returns an error\n",
    "assert 1 == 2"
   ]
  },
  {
   "cell_type": "code",
   "execution_count": 16,
   "metadata": {},
   "outputs": [
    {
     "ename": "AssertionError",
     "evalue": "",
     "output_type": "error",
     "traceback": [
      "\u001b[1;31m---------------------------------------------------------------------------\u001b[0m",
      "\u001b[1;31mAssertionError\u001b[0m                            Traceback (most recent call last)",
      "\u001b[1;32m<ipython-input-16-0e3e9719daf4>\u001b[0m in \u001b[0;36m<module>\u001b[1;34m\u001b[0m\n\u001b[0;32m      2\u001b[0m \u001b[1;31m# 1st .all() to return True or False for each column\u001b[0m\u001b[1;33m\u001b[0m\u001b[1;33m\u001b[0m\u001b[1;33m\u001b[0m\u001b[0m\n\u001b[0;32m      3\u001b[0m \u001b[1;31m# 2nd .alll() to return a single True or False\u001b[0m\u001b[1;33m\u001b[0m\u001b[1;33m\u001b[0m\u001b[1;33m\u001b[0m\u001b[0m\n\u001b[1;32m----> 4\u001b[1;33m \u001b[1;32massert\u001b[0m \u001b[0mdf\u001b[0m\u001b[1;33m.\u001b[0m\u001b[0mnotnull\u001b[0m\u001b[1;33m(\u001b[0m\u001b[1;33m)\u001b[0m\u001b[1;33m.\u001b[0m\u001b[0mall\u001b[0m\u001b[1;33m(\u001b[0m\u001b[1;33m)\u001b[0m\u001b[1;33m.\u001b[0m\u001b[0mall\u001b[0m\u001b[1;33m(\u001b[0m\u001b[1;33m)\u001b[0m\u001b[1;33m\u001b[0m\u001b[1;33m\u001b[0m\u001b[0m\n\u001b[0m",
      "\u001b[1;31mAssertionError\u001b[0m: "
     ]
    }
   ],
   "source": [
    "# Note: Need to chain two .all(), \n",
    "# 1st .all() to return True or False for each column\n",
    "# 2nd .alll() to return a single True or False\n",
    "assert df.notnull().all().all()"
   ]
  },
  {
   "cell_type": "code",
   "execution_count": 17,
   "metadata": {},
   "outputs": [],
   "source": [
    "assert (df['Age'] >=0).all().all()"
   ]
  },
  {
   "cell_type": "markdown",
   "metadata": {},
   "source": [
    "## Case Study- Putting it all together\n",
    "\n",
    "* Using all techniques previously discussed to work on the Gapminder Foundation dataset.\n",
    "* Clean and tidy data saved to a file\n",
    "    * Ready to be loaded for analysis!\n",
    "* Dataset consists of life expectancy by country and year\n",
    "* Data will come in multiple parts\n",
    "    * Load\n",
    "    * Preliminary quality diagnosis\n",
    "    * Combine into single dataset\n",
    "\n",
    "### Useful methods\n",
    "* df = pd.read_csv('file_name.csv')\n",
    "* df.head()\n",
    "* df.info()\n",
    "* df.columns\n",
    "* df.describe()\n",
    "* df.column.value_counts()\n",
    "* df.column.plot('hist')\n",
    "\n",
    "### Data Quality\n",
    "```python\n",
    "def cleaning_function(row_data):\n",
    "    # data cleaning logic\n",
    "    return ...\n",
    "# Default: Axis = 0 will apply the function column-wise\n",
    "#          Axis = 1 will apply the function row-wise\n",
    "df.apply(cleaning_function, axis=1)\n",
    "assert(df.column_data > 0).all()\n",
    "```\n",
    "\n",
    "### Combining Data\n",
    "* pd.merge(df1, df2, ...)\n",
    "* pd.concat([df1, df2, ...])"
   ]
  },
  {
   "cell_type": "code",
   "execution_count": 18,
   "metadata": {},
   "outputs": [
    {
     "name": "stdout",
     "output_type": "stream",
     "text": [
      "<class 'pandas.core.frame.DataFrame'>\n",
      "RangeIndex: 780 entries, 0 to 779\n",
      "Columns: 219 entries, Unnamed: 0 to Life expectancy\n",
      "dtypes: float64(217), int64(1), object(1)\n",
      "memory usage: 1.3+ MB\n"
     ]
    }
   ],
   "source": [
    "file ='https://assets.datacamp.com/production/repositories/666/datasets/8e869c545c913547d94b61534b2f8d336a2c8c87/gapminder.csv'\n",
    "df = pd.read_csv(file)\n",
    "df.info()"
   ]
  },
  {
   "cell_type": "code",
   "execution_count": 20,
   "metadata": {},
   "outputs": [
    {
     "data": {
      "text/plain": [
       "(20, 55)"
      ]
     },
     "execution_count": 20,
     "metadata": {},
     "output_type": "execute_result"
    },
    {
     "data": {
      "image/png": "[encoded data removed]",
      "text/plain": [
       "<Figure size 432x288 with 1 Axes>"
      ]
     },
     "metadata": {
      "needs_background": "light"
     },
     "output_type": "display_data"
    }
   ],
   "source": [
    "import matplotlib.pyplot as plt\n",
    "\n",
    "# Create the scatter plot\n",
    "df.plot(kind='scatter', x='1800', y='1899')\n",
    "\n",
    "# Specify axis limitsfy axis labels\n",
    "plt.xlabel('Life Expectancy by Country in 1800')\n",
    "plt.ylabel('Life Expectancy by Country in 1899')\n",
    "\n",
    "# Specify axis limits\n",
    "plt.xlim(20, 55)\n",
    "plt.ylim(20, 55)"
   ]
  },
  {
   "cell_type": "markdown",
   "metadata": {},
   "source": [
    "* Looking at the graph, we can see whether the scatter plot takes the form a diagonal line, and which points fall below or above the diagonal line.\n",
    "* Points that fall above or below the diagonal line inform us how life expectancy in 1899 changed (or did not change) when compared to 1800 for different countries.\n",
    "* Note: When the points fall on the diagonal line, it means that life expectancy remained the same"
   ]
  },
  {
   "cell_type": "code",
   "execution_count": 21,
   "metadata": {},
   "outputs": [],
   "source": [
    "def check_null_or_valid(row):\n",
    "    \"\"\"Function that takes a row of data, drops all missing values, and checks if all remaining values are >= 0\"\"\"\n",
    "    no_na = row.dropna()\n",
    "    numeric_type = pd.to_numeric(no_na)\n",
    "    return numeric_type >= 0\n",
    "\n",
    "# Check whether the last column is 'Life expectancy'\n",
    "assert df.columns[-1] == 'Life expectancy'\n",
    "\n",
    "# Check whether the values in the row are valid\n",
    "# Note: loc gets rows (or columns) with particular 'labels'\n",
    "#      iloc gets row (or columns) at a particular 'index position'\n",
    "assert df.iloc[: , :-1].apply(check_null_or_valid, axis=1).all().all()\n",
    "\n",
    "# Check that there is only one instance of each country\n",
    "assert df['Life expectancy'].value_counts().all() == 1"
   ]
  },
  {
   "cell_type": "markdown",
   "metadata": {
    "heading_collapsed": true
   },
   "source": [
    "### Initial impressions of the data\n",
    "\n",
    "**Principles of Tidy Data*\n",
    "* Rows form observations\n",
    "* Columns form variables\n",
    "* Tidying data will make data cleaning easier\n",
    "* Melting turns columns into rows\n",
    "* Pivot will take unique values from a column and create new columns\n",
    "\n",
    "#### Checking Data Types\n",
    "```python\n",
    "df.dtypes\n",
    "\n",
    "# To change column type\n",
    "df['column name'] = pd.to_numeric(df['column name'])\n",
    "df['column name'] = df['column name'].astype(str)\n",
    "\n",
    "# Additional calculations and saving your data\n",
    "df['new column'] = df['column1'] + df['column2']\n",
    "df['new column'] = df.apply(my_function, axis=1) #Note: Axis=0 => Column-wise, Axis=1 => Row-wise\n",
    "\n",
    "# Save dataframe to csv\n",
    "df.to_csv['my_data.csv']\n",
    "```"
   ]
  },
  {
   "cell_type": "markdown",
   "metadata": {},
   "source": [
    "### Reshaping your data\n",
    "Reshape data into a *tidy* data format."
   ]
  },
  {
   "cell_type": "code",
   "execution_count": 22,
   "metadata": {},
   "outputs": [],
   "source": [
    "gapminder_melt = pd.melt(frame=df, id_vars='Life expectancy')"
   ]
  },
  {
   "cell_type": "code",
   "execution_count": 23,
   "metadata": {},
   "outputs": [],
   "source": [
    "gapminder_melt.columns = ['country', 'year', 'life_expectancy']"
   ]
  },
  {
   "cell_type": "code",
   "execution_count": 24,
   "metadata": {},
   "outputs": [
    {
     "data": {
      "text/html": [
       "<div>\n",
       "<style scoped>\n",
       "    .dataframe tbody tr th:only-of-type {\n",
       "        vertical-align: middle;\n",
       "    }\n",
       "\n",
       "    .dataframe tbody tr th {\n",
       "        vertical-align: top;\n",
       "    }\n",
       "\n",
       "    .dataframe thead th {\n",
       "        text-align: right;\n",
       "    }\n",
       "</style>\n",
       "<table border=\"1\" class=\"dataframe\">\n",
       "  <thead>\n",
       "    <tr style=\"text-align: right;\">\n",
       "      <th></th>\n",
       "      <th>country</th>\n",
       "      <th>year</th>\n",
       "      <th>life_expectancy</th>\n",
       "    </tr>\n",
       "  </thead>\n",
       "  <tbody>\n",
       "    <tr>\n",
       "      <th>170035</th>\n",
       "      <td>Yugoslavia</td>\n",
       "      <td>2016</td>\n",
       "      <td>NaN</td>\n",
       "    </tr>\n",
       "    <tr>\n",
       "      <th>170036</th>\n",
       "      <td>Zambia</td>\n",
       "      <td>2016</td>\n",
       "      <td>57.10</td>\n",
       "    </tr>\n",
       "    <tr>\n",
       "      <th>170037</th>\n",
       "      <td>Zimbabwe</td>\n",
       "      <td>2016</td>\n",
       "      <td>61.69</td>\n",
       "    </tr>\n",
       "    <tr>\n",
       "      <th>170038</th>\n",
       "      <td>Åland</td>\n",
       "      <td>2016</td>\n",
       "      <td>NaN</td>\n",
       "    </tr>\n",
       "    <tr>\n",
       "      <th>170039</th>\n",
       "      <td>South Sudan</td>\n",
       "      <td>2016</td>\n",
       "      <td>56.10</td>\n",
       "    </tr>\n",
       "  </tbody>\n",
       "</table>\n",
       "</div>"
      ],
      "text/plain": [
       "            country  year  life_expectancy\n",
       "170035   Yugoslavia  2016              NaN\n",
       "170036       Zambia  2016            57.10\n",
       "170037     Zimbabwe  2016            61.69\n",
       "170038        Åland  2016              NaN\n",
       "170039  South Sudan  2016            56.10"
      ]
     },
     "execution_count": 24,
     "metadata": {},
     "output_type": "execute_result"
    }
   ],
   "source": [
    "gapminder_melt.tail()"
   ]
  },
  {
   "cell_type": "markdown",
   "metadata": {},
   "source": [
    "### Looking at country spellings\n",
    "Check that countries contain a set of upper case followed by a set of lower case letters. There should be whitespace between words and a period for any abbreviation."
   ]
  },
  {
   "cell_type": "code",
   "execution_count": 25,
   "metadata": {},
   "outputs": [
    {
     "data": {
      "text/plain": [
       "49            Congo, Dem. Rep.\n",
       "50                 Congo, Rep.\n",
       "53               Cote d'Ivoire\n",
       "73      Falkland Is (Malvinas)\n",
       "93               Guinea-Bissau\n",
       "98            Hong Kong, China\n",
       "118    United Korea (former)\\n\n",
       "131               Macao, China\n",
       "132             Macedonia, FYR\n",
       "145      Micronesia, Fed. Sts.\n",
       "161            Ngorno-Karabakh\n",
       "187             St. Barthélemy\n",
       "193     St.-Pierre-et-Miquelon\n",
       "225                Timor-Leste\n",
       "251      Virgin Islands (U.S.)\n",
       "252       North Yemen (former)\n",
       "253       South Yemen (former)\n",
       "258                      Åland\n",
       "Name: country, dtype: object"
      ]
     },
     "execution_count": 25,
     "metadata": {},
     "output_type": "execute_result"
    }
   ],
   "source": [
    "# Create the series of countries\n",
    "countries = gapminder_melt['country']\n",
    "\n",
    "# Drop all the duplicates from the countries\n",
    "countries = countries.drop_duplicates()\n",
    "\n",
    "# Regular Expression Pattern\n",
    "# ^ - Start matching from beginning\n",
    "# $ - Match until the end\n",
    "# A-Za-z - Match upper and lower case letters\n",
    "# \\. - Match Periods\n",
    "# \\s - Match whitespaces\n",
    "# *  - Match pattern 0 or more times\n",
    "pattern = '^[A-Za-z\\.\\s]*$'\n",
    "\n",
    "# Finding values that do not match. This is done with the '~' operator\n",
    "mask_inverse = ~countries.str.contains(pattern)\n",
    "\n",
    "# Subset countries with invalid countries\n",
    "invalid_countries = countries.loc[mask_inverse]\n",
    "\n",
    "invalid_countries"
   ]
  },
  {
   "cell_type": "markdown",
   "metadata": {},
   "source": [
    "### More data cleaning and processing"
   ]
  },
  {
   "cell_type": "code",
   "execution_count": 26,
   "metadata": {},
   "outputs": [],
   "source": [
    "# Assert that country does not contain any missing values\n",
    "assert pd.notnull(gapminder_melt['country']).all()\n",
    "\n",
    "# Assert that country does not contain any missing valuesrt that year does not contain any missing values\n",
    "assert pd.notnull(gapminder_melt['year']).all()"
   ]
  },
  {
   "cell_type": "code",
   "execution_count": 27,
   "metadata": {},
   "outputs": [
    {
     "data": {
      "text/plain": [
       "(170040, 3)"
      ]
     },
     "execution_count": 27,
     "metadata": {},
     "output_type": "execute_result"
    }
   ],
   "source": [
    "gapminder_melt.shape"
   ]
  },
  {
   "cell_type": "code",
   "execution_count": 28,
   "metadata": {},
   "outputs": [
    {
     "data": {
      "text/plain": [
       "(44637, 3)"
      ]
     },
     "execution_count": 28,
     "metadata": {},
     "output_type": "execute_result"
    }
   ],
   "source": [
    "# Drop the missing values\n",
    "gapminder_melt = gapminder_melt.dropna()\n",
    "gapminder_melt.shape"
   ]
  },
  {
   "cell_type": "markdown",
   "metadata": {},
   "source": [
    "### Plotting"
   ]
  },
  {
   "cell_type": "code",
   "execution_count": 29,
   "metadata": {},
   "outputs": [
    {
     "data": {
      "text/plain": [
       "year\n",
       "2013           71.916106\n",
       "2014           72.088125\n",
       "2015           72.321010\n",
       "2016           72.556635\n",
       "Unnamed: 0    129.500000\n",
       "Name: life_expectancy, dtype: float64"
      ]
     },
     "execution_count": 29,
     "metadata": {},
     "output_type": "execute_result"
    },
    {
     "data": {
      "image/png": "[encoded data removed]",
      "text/plain": [
       "<Figure size 432x288 with 1 Axes>"
      ]
     },
     "metadata": {
      "needs_background": "light"
     },
     "output_type": "display_data"
    }
   ],
   "source": [
    "# Add first subplot\n",
    "plt.subplot(2, 1, 1) \n",
    "\n",
    "# Create a histogram of life_expectancy\n",
    "gapminder_melt.life_expectancy.plot(kind='hist')\n",
    "\n",
    "# Group gapminder: gapminder_agg\n",
    "gapminder_agg = gapminder_melt.groupby('year')['life_expectancy'].mean()\n",
    "\n",
    "# Print the tail of gapminder_agg\n",
    "gapminder_agg.tail()"
   ]
  },
  {
   "cell_type": "code",
   "execution_count": 30,
   "metadata": {},
   "outputs": [
    {
     "data": {
      "image/png": "[encoded data removed]",
      "text/plain": [
       "<Figure size 432x288 with 1 Axes>"
      ]
     },
     "metadata": {
      "needs_background": "light"
     },
     "output_type": "display_data"
    },
    {
     "name": "stderr",
     "output_type": "stream",
     "text": [
      "C:\\Users\\cgrindean\\AppData\\Local\\Continuum\\anaconda3\\lib\\site-packages\\ipykernel_launcher.py:18: FutureWarning: The signature of `Series.to_csv` was aligned to that of `DataFrame.to_csv`, and argument 'header' will change its default value from False to True: please pass an explicit value to suppress this warning.\n"
     ]
    }
   ],
   "source": [
    "# Add second subplot\n",
    "plt.subplot(2, 1, 2)\n",
    "\n",
    "# Create a line plot of life expectancy per year\n",
    "gapminder_agg.plot()\n",
    "\n",
    "# Add title and specify axis labels\n",
    "plt.title('Life expectancy over the years')\n",
    "plt.ylabel('Life expectancy')\n",
    "plt.xlabel('Year')\n",
    "\n",
    "# Display the plots\n",
    "plt.tight_layout()\n",
    "plt.show()\n",
    "\n",
    "# Save both DataFrames to csv files\n",
    "gapminder_melt.to_csv('sample_data/gapminder.csv')\n",
    "gapminder_agg.to_csv('sample_data/gapminder_agg.csv')"
   ]
  }
 ],
 "metadata": {
  "kernelspec": {
   "display_name": "Python 3",
   "language": "python",
   "name": "python3"
  },
  "language_info": {
   "codemirror_mode": {
    "name": "ipython",
    "version": 3
   },
   "file_extension": ".py",
   "mimetype": "text/x-python",
   "name": "python",
   "nbconvert_exporter": "python",
   "pygments_lexer": "ipython3",
   "version": "3.7.3"
  },
  "toc": {
   "base_numbering": 1,
   "nav_menu": {},
   "number_sections": true,
   "sideBar": true,
   "skip_h1_title": false,
   "title_cell": "Table of Contents",
   "title_sidebar": "Contents",
   "toc_cell": false,
   "toc_position": {
    "height": "calc(100% - 180px)",
    "left": "10px",
    "top": "150px",
    "width": "288px"
   },
   "toc_section_display": true,
   "toc_window_display": true
  }
 },
 "nbformat": 4,
 "nbformat_minor": 2
}
