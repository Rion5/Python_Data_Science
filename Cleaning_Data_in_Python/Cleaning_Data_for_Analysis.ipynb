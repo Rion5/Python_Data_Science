{
 "cells": [
  {
   "cell_type": "markdown",
   "metadata": {},
   "source": [
    "# Cleaning Data for Analysis\n",
    "\n",
    "## Data Types\n",
    "\n",
    "There may be times we want to convert from one data type to another\n",
    "\n",
    "**Categorical Data**\n",
    "\n",
    "Columns that contain categorical data, such as Male / Female can be converting into 'category' dtype\n",
    "* Can make the DataFrame smaller in memory\n",
    "* Can make them be utilized by other Python libraries"
   ]
  },
  {
   "cell_type": "code",
   "execution_count": 1,
   "metadata": {},
   "outputs": [
    {
     "name": "stdout",
     "output_type": "stream",
     "text": [
      "<class 'pandas.core.frame.DataFrame'>\n",
      "RangeIndex: 244 entries, 0 to 243\n",
      "Data columns (total 7 columns):\n",
      "total_bill    244 non-null float64\n",
      "tip           244 non-null float64\n",
      "sex           244 non-null object\n",
      "smoker        244 non-null object\n",
      "day           244 non-null object\n",
      "time          244 non-null object\n",
      "size          244 non-null int64\n",
      "dtypes: float64(2), int64(1), object(4)\n",
      "memory usage: 13.4+ KB\n"
     ]
    }
   ],
   "source": [
    "import pandas as pd\n",
    "df = pd.read_csv('https://assets.datacamp.com/production/repositories/666/datasets/b064fa9e0684a38ac15b0a19845367c29fde978d/tips.csv')\n",
    "df.info()"
   ]
  },
  {
   "cell_type": "code",
   "execution_count": 2,
   "metadata": {},
   "outputs": [
    {
     "name": "stdout",
     "output_type": "stream",
     "text": [
      "<class 'pandas.core.frame.DataFrame'>\n",
      "RangeIndex: 244 entries, 0 to 243\n",
      "Data columns (total 7 columns):\n",
      "total_bill    244 non-null float64\n",
      "tip           244 non-null float64\n",
      "sex           244 non-null category\n",
      "smoker        244 non-null bool\n",
      "day           244 non-null object\n",
      "time          244 non-null object\n",
      "size          244 non-null int64\n",
      "dtypes: bool(1), category(1), float64(2), int64(1), object(2)\n",
      "memory usage: 10.2+ KB\n"
     ]
    }
   ],
   "source": [
    "# Converting Data Types\n",
    "df['smoker'] = df['smoker'].astype('bool')\n",
    "df['sex'] = df['sex'].astype('category')\n",
    "df.info()"
   ]
  },
  {
   "cell_type": "markdown",
   "metadata": {},
   "source": [
    "### Converting Data Types\n",
    "* Numeric data loaded as a string, usually a sign of bad data that needs to be cleaned"
   ]
  },
  {
   "cell_type": "code",
   "execution_count": 3,
   "metadata": {},
   "outputs": [
    {
     "data": {
      "text/plain": [
       "total_bill     float64\n",
       "tip            float64\n",
       "sex           category\n",
       "smoker            bool\n",
       "day             object\n",
       "time            object\n",
       "size             int64\n",
       "dtype: object"
      ]
     },
     "execution_count": 3,
     "metadata": {},
     "output_type": "execute_result"
    }
   ],
   "source": [
    "# Converting total_bill into a numeric dtype\n",
    "# errors='coerce' will set invalid values as NaN\n",
    "df['total_bill'] = pd.to_numeric(df['total_bill'], errors='coerce')\n",
    "df['tip'] = pd.to_numeric(df['tip'], errors='coerce')\n",
    "df.dtypes"
   ]
  },
  {
   "cell_type": "markdown",
   "metadata": {},
   "source": [
    "## String Manipulation\n",
    "\n",
    "* Much of data cleaning involves string manipulation\n",
    "* Most of the world's data is unstructured text\n",
    "* Python has many built-in and external libraries\n",
    "* 're' library for regular expressions\n",
    "\n",
    "### Regular Expression Match Example\n",
    "\n",
    "***** - Matches it zero or more times\n",
    "\n",
    "**{2}** - Matches exactly 2 values\n",
    "\n",
    "**^** - Caret will tell the pattern to start the pattern match th a the beginning of value\n",
    "\n",
    "**$** - Will tell the pattern to match at the end of the value\n",
    "\n",
    "|Value      |Pattern Matched    |Regular Expression|\n",
    "|-----------|-------------------|------------------|\n",
    "|17         |12345678901        |\\d*               |\n",
    "|\\$17       |\\$12345678901      |\\ $\\d*            |\n",
    "|\\$17.00    |\\$12345678901.24   |\\ \\$\\d*\\\\.\\d *    |\n",
    "|\\$17.89    |\\$12345678901.24   |\\ \\$\\d*\\\\.\\d{2}   |\n",
    "|\\$17.895   |\\$12345678901.999  |^\\\\$\\d*\\\\.\\d{2}\\$ |\n",
    "\n",
    "#### Using Regular Expressions\n",
    "\n",
    "* Compile the pattern\n",
    "* Use the compiled pattern to match values\n",
    "* This lets use use the pattern over and over again\n",
    "* Useful since we want to match values down a column of values"
   ]
  },
  {
   "cell_type": "code",
   "execution_count": 4,
   "metadata": {},
   "outputs": [
    {
     "name": "stdout",
     "output_type": "stream",
     "text": [
      "True\n",
      "False\n"
     ]
    }
   ],
   "source": [
    "import re\n",
    "\n",
    "# RegEx Pattern - Match a Phone Number in the format of xxx-xxx-xxxx\n",
    "pattern = re.compile('\\d{3}\\-\\d{3}\\-\\d{4}')\n",
    "\n",
    "# See if the pattern matches\n",
    "result = pattern.match('123-456-7890')\n",
    "result2 = pattern.match('1123-456-7890')\n",
    "\n",
    "print(f'{bool(result)}')\n",
    "print(f'{bool(result2)}')"
   ]
  },
  {
   "cell_type": "code",
   "execution_count": 5,
   "metadata": {},
   "outputs": [
    {
     "ename": "TypeError",
     "evalue": "findall() missing 1 required positional argument: 'string'",
     "output_type": "error",
     "traceback": [
      "\u001b[1;31m---------------------------------------------------------------------------\u001b[0m",
      "\u001b[1;31mTypeError\u001b[0m                                 Traceback (most recent call last)",
      "\u001b[1;32m<ipython-input-5-d636d1f14eb0>\u001b[0m in \u001b[0;36m<module>\u001b[1;34m\u001b[0m\n\u001b[0;32m      1\u001b[0m \u001b[1;31m# Find the numeric values in a string\u001b[0m\u001b[1;33m\u001b[0m\u001b[1;33m\u001b[0m\u001b[1;33m\u001b[0m\u001b[0m\n\u001b[1;32m----> 2\u001b[1;33m \u001b[0mmatches\u001b[0m \u001b[1;33m=\u001b[0m \u001b[0mre\u001b[0m\u001b[1;33m.\u001b[0m\u001b[0mfindall\u001b[0m\u001b[1;33m(\u001b[0m\u001b[1;34m'\\d*'\u001b[0m\u001b[1;33m)\u001b[0m\u001b[1;33m\u001b[0m\u001b[1;33m\u001b[0m\u001b[0m\n\u001b[0m",
      "\u001b[1;31mTypeError\u001b[0m: findall() missing 1 required positional argument: 'string'"
     ]
    }
   ],
   "source": [
    "# Find the numeric values in a string\n",
    "matches = re.findall('\\d*')"
   ]
  }
 ],
 "metadata": {
  "kernelspec": {
   "display_name": "Python 3",
   "language": "python",
   "name": "python3"
  },
  "language_info": {
   "codemirror_mode": {
    "name": "ipython",
    "version": 3
   },
   "file_extension": ".py",
   "mimetype": "text/x-python",
   "name": "python",
   "nbconvert_exporter": "python",
   "pygments_lexer": "ipython3",
   "version": "3.7.3"
  },
  "toc": {
   "base_numbering": 1,
   "nav_menu": {},
   "number_sections": true,
   "sideBar": true,
   "skip_h1_title": false,
   "title_cell": "Table of Contents",
   "title_sidebar": "Contents",
   "toc_cell": false,
   "toc_position": {},
   "toc_section_display": true,
   "toc_window_display": false
  }
 },
 "nbformat": 4,
 "nbformat_minor": 2
}
