{
 "cells": [
  {
   "cell_type": "markdown",
   "metadata": {},
   "source": [
    "# Course outline\n",
    "\n",
    "## Chapter 1: DataFrames\n",
    "* Sorting and Subsetting\n",
    "* Creating new columns\n",
    "\n",
    "## Chapter 2: Aggregating Data\n",
    "* Summary statistics\n",
    "* Counting\n",
    "* Grouped summary statistics\n",
    "\n",
    "# Chapter 3: Slicing and Indexing Data\n",
    "* Subsetting using slicing\n",
    "* Indexes and subsetting using indexes\n",
    "\n",
    "## Chpater 4: Creating and Visualizing Data\n",
    "* Plotting\n",
    "* Handling missing data\n",
    "* Reading data into a DataFrame"
   ]
  },
  {
   "cell_type": "markdown",
   "metadata": {},
   "source": [
    "pandas is built on NumPy and Matplotlib"
   ]
  },
  {
   "cell_type": "code",
   "execution_count": null,
   "metadata": {},
   "outputs": [],
   "source": []
  }
 ],
 "metadata": {
  "kernelspec": {
   "display_name": "Python 3",
   "language": "python",
   "name": "python3"
  },
  "language_info": {
   "codemirror_mode": {
    "name": "ipython",
    "version": 3
   },
   "file_extension": ".py",
   "mimetype": "text/x-python",
   "name": "python",
   "nbconvert_exporter": "python",
   "pygments_lexer": "ipython3",
   "version": "3.7.3"
  },
  "toc": {
   "base_numbering": 1,
   "nav_menu": {},
   "number_sections": true,
   "sideBar": true,
   "skip_h1_title": false,
   "title_cell": "Table of Contents",
   "title_sidebar": "Contents",
   "toc_cell": false,
   "toc_position": {},
   "toc_section_display": true,
   "toc_window_display": false
  }
 },
 "nbformat": 4,
 "nbformat_minor": 2
}
