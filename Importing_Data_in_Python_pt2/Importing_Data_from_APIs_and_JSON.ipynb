{
 "cells": [
  {
   "cell_type": "markdown",
   "metadata": {},
   "source": [
    "# Introduction to APIs and JSON\n",
    "\n",
    "**APIs**\n",
    "* Application Programming Interface\n",
    "* Protocols and routines\n",
    "    * Building and interacting with software applications\n",
    "\n",
    "**JSONs**\n",
    "* JavaScript Object Notation\n",
    "* Real-time server-to-browser communication"
   ]
  },
  {
   "cell_type": "markdown",
   "metadata": {},
   "source": [
    "## APIs and Interacting with the web\n",
    "\n",
    "* Allows programs and devices to communicate with each other\n",
    "\n",
    "### Connecting to an API in Python"
   ]
  },
  {
   "cell_type": "code",
   "execution_count": 1,
   "metadata": {},
   "outputs": [
    {
     "name": "stdout",
     "output_type": "stream",
     "text": [
      "name : Leia Organa\n",
      "height : 150\n",
      "mass : 49\n",
      "hair_color : brown\n",
      "skin_color : light\n",
      "eye_color : brown\n",
      "birth_year : 19BBY\n",
      "gender : female\n",
      "homeworld : https://swapi.co/api/planets/2/\n",
      "films : ['https://swapi.co/api/films/2/', 'https://swapi.co/api/films/6/', 'https://swapi.co/api/films/3/', 'https://swapi.co/api/films/1/', 'https://swapi.co/api/films/7/']\n",
      "species : ['https://swapi.co/api/species/1/']\n",
      "vehicles : ['https://swapi.co/api/vehicles/30/']\n",
      "starships : []\n",
      "created : 2014-12-10T15:20:09.791000Z\n",
      "edited : 2014-12-20T21:17:50.315000Z\n",
      "url : https://swapi.co/api/people/5/\n"
     ]
    }
   ],
   "source": [
    "import requests\n",
    "url = 'https://swapi.co/api/people/5/'\n",
    "req = requests.get(url)\n",
    "json_data = req.json()\n",
    "for key, value in json_data.items():\n",
    "    print(f'{key} : {value}')"
   ]
  },
  {
   "cell_type": "markdown",
   "metadata": {},
   "source": [
    "## Loading JSONS in Python"
   ]
  },
  {
   "cell_type": "code",
   "execution_count": 2,
   "metadata": {},
   "outputs": [
    {
     "name": "stdout",
     "output_type": "stream",
     "text": [
      "name : Luke Skywalker\n",
      "height : 172\n",
      "mass : 77\n",
      "hair_color : blond\n",
      "skin_color : fair\n",
      "eye_color : blue\n",
      "birth_year : 19BBY\n",
      "gender : male\n",
      "homeworld : https://swapi.co/api/planets/1/\n",
      "films : ['https://swapi.co/api/films/2/', 'https://swapi.co/api/films/6/', 'https://swapi.co/api/films/3/', 'https://swapi.co/api/films/1/', 'https://swapi.co/api/films/7/']\n",
      "species : ['https://swapi.co/api/species/1/']\n",
      "vehicles : ['https://swapi.co/api/vehicles/14/', 'https://swapi.co/api/vehicles/30/']\n",
      "starships : ['https://swapi.co/api/starships/12/', 'https://swapi.co/api/starships/22/']\n",
      "created : 2014-12-09T13:50:51.644000Z\n",
      "edited : 2014-12-20T21:17:56.891000Z\n",
      "url : https://swapi.co/api/people/1/\n"
     ]
    }
   ],
   "source": [
    "import json\n",
    "with open('sample_data/luke_skywalker.json', 'r') as json_file:\n",
    "    json_data = json.load(json_file)\n",
    "    \n",
    "    for key, value in json_data.items():\n",
    "        print(f'{key} : {value}')"
   ]
  },
  {
   "cell_type": "markdown",
   "metadata": {},
   "source": [
    "# Twitter API and Authentication"
   ]
  },
  {
   "cell_type": "code",
   "execution_count": null,
   "metadata": {},
   "outputs": [],
   "source": [
    "import tweepy, json\n",
    "access_token = \"...\"\n",
    "access_token_secret = \"...\"\n",
    "consumer_key = \"...\"\n",
    "consumer_secret = \"...\"\n",
    "\n",
    "auth = tweepy.OAuthHandler(consumer_key, consumer_secret)\n",
    "auth.set_access_token(access_token, access_token_secret)\n",
    "\n",
    "class MyStreamListener(tweepy.StreamListener):\n",
    "    def __init__(self, api=None):\n",
    "        super(MyStreamListener, self).__init__()\n",
    "        self.num_tweets = 0\n",
    "        self.file = open(\"tweets.txt\", \"w\")\n",
    "    \n",
    "    def on_status(self, status):\n",
    "        tweet = staus._json\n",
    "        self.file.write(json.dumps(tweet) + '\\n')\n",
    "        tweet_list.append(status)\n",
    "        self.num_tweets += 1\n",
    "        if self.num_tweets < 100:\n",
    "            return True\n",
    "        else:\n",
    "            return False\n",
    "        self.file.close()\n",
    "        \n",
    "# Create Streaming object and authenticate\n",
    "listener = MyStreamListener()\n",
    "stream = tweepy.Stream(auth, listener)\n",
    "\n",
    "# Filters Twitter Streams to caputre data by keywords:\n",
    "stream.filter(track = ['software', 'hacker'])"
   ]
  }
 ],
 "metadata": {
  "kernelspec": {
   "display_name": "Python 3",
   "language": "python",
   "name": "python3"
  },
  "language_info": {
   "codemirror_mode": {
    "name": "ipython",
    "version": 3
   },
   "file_extension": ".py",
   "mimetype": "text/x-python",
   "name": "python",
   "nbconvert_exporter": "python",
   "pygments_lexer": "ipython3",
   "version": "3.7.3"
  },
  "toc": {
   "base_numbering": 1,
   "nav_menu": {},
   "number_sections": true,
   "sideBar": true,
   "skip_h1_title": false,
   "title_cell": "Table of Contents",
   "title_sidebar": "Contents",
   "toc_cell": false,
   "toc_position": {},
   "toc_section_display": true,
   "toc_window_display": false
  }
 },
 "nbformat": 4,
 "nbformat_minor": 2
}
