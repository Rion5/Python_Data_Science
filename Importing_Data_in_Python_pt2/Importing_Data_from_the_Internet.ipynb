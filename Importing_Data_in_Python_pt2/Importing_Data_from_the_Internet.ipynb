{
 "cells": [
  {
   "cell_type": "markdown",
   "metadata": {},
   "source": [
    "# Importing Data from the Internet\n",
    "\n",
    "**Lesson Plan**\n",
    "* Import and locally save datasets from the web\n",
    "* Load datasets into pandas DataFrames\n",
    "* Make HTTP requests (GET requests)\n",
    "* Scape web data such as HTML\n",
    "* Parse HTML into useful data (Beautiful Soup)\n",
    "    * Packages: ***urlib*** and ***requests***\n",
    "    \n",
    "## urllib package\n",
    "* Provies interface for fetching data from the web\n",
    "* urlopen() - accepts URLs instead of file names"
   ]
  },
  {
   "cell_type": "code",
   "execution_count": 1,
   "metadata": {},
   "outputs": [
    {
     "data": {
      "text/plain": [
       "('sample_data/winequality-white.csv',\n",
       " <http.client.HTTPMessage at 0x2177d37c908>)"
      ]
     },
     "execution_count": 1,
     "metadata": {},
     "output_type": "execute_result"
    }
   ],
   "source": [
    "from urllib.request import urlretrieve\n",
    "url = 'http://archive.ics.uci.edu/ml/machine-learning-databases/wine-quality/winequality-white.csv'\n",
    "\n",
    "# Downloads and saves data into the sample_data folder, into a file named 'winequality-white.csv'\n",
    "urlretrieve(url, 'sample_data/winequality-white.csv')"
   ]
  },
  {
   "cell_type": "markdown",
   "metadata": {},
   "source": [
    "## Importing data from the web into pandas DataFrames"
   ]
  },
  {
   "cell_type": "code",
   "execution_count": 2,
   "metadata": {},
   "outputs": [
    {
     "data": {
      "text/html": [
       "<div>\n",
       "<style scoped>\n",
       "    .dataframe tbody tr th:only-of-type {\n",
       "        vertical-align: middle;\n",
       "    }\n",
       "\n",
       "    .dataframe tbody tr th {\n",
       "        vertical-align: top;\n",
       "    }\n",
       "\n",
       "    .dataframe thead th {\n",
       "        text-align: right;\n",
       "    }\n",
       "</style>\n",
       "<table border=\"1\" class=\"dataframe\">\n",
       "  <thead>\n",
       "    <tr style=\"text-align: right;\">\n",
       "      <th></th>\n",
       "      <th>fixed acidity</th>\n",
       "      <th>volatile acidity</th>\n",
       "      <th>citric acid</th>\n",
       "      <th>residual sugar</th>\n",
       "      <th>chlorides</th>\n",
       "      <th>free sulfur dioxide</th>\n",
       "      <th>total sulfur dioxide</th>\n",
       "      <th>density</th>\n",
       "      <th>pH</th>\n",
       "      <th>sulphates</th>\n",
       "      <th>alcohol</th>\n",
       "      <th>quality</th>\n",
       "    </tr>\n",
       "  </thead>\n",
       "  <tbody>\n",
       "    <tr>\n",
       "      <th>0</th>\n",
       "      <td>7.4</td>\n",
       "      <td>0.70</td>\n",
       "      <td>0.00</td>\n",
       "      <td>1.9</td>\n",
       "      <td>0.076</td>\n",
       "      <td>11.0</td>\n",
       "      <td>34.0</td>\n",
       "      <td>0.9978</td>\n",
       "      <td>3.51</td>\n",
       "      <td>0.56</td>\n",
       "      <td>9.4</td>\n",
       "      <td>5</td>\n",
       "    </tr>\n",
       "    <tr>\n",
       "      <th>1</th>\n",
       "      <td>7.8</td>\n",
       "      <td>0.88</td>\n",
       "      <td>0.00</td>\n",
       "      <td>2.6</td>\n",
       "      <td>0.098</td>\n",
       "      <td>25.0</td>\n",
       "      <td>67.0</td>\n",
       "      <td>0.9968</td>\n",
       "      <td>3.20</td>\n",
       "      <td>0.68</td>\n",
       "      <td>9.8</td>\n",
       "      <td>5</td>\n",
       "    </tr>\n",
       "    <tr>\n",
       "      <th>2</th>\n",
       "      <td>7.8</td>\n",
       "      <td>0.76</td>\n",
       "      <td>0.04</td>\n",
       "      <td>2.3</td>\n",
       "      <td>0.092</td>\n",
       "      <td>15.0</td>\n",
       "      <td>54.0</td>\n",
       "      <td>0.9970</td>\n",
       "      <td>3.26</td>\n",
       "      <td>0.65</td>\n",
       "      <td>9.8</td>\n",
       "      <td>5</td>\n",
       "    </tr>\n",
       "    <tr>\n",
       "      <th>3</th>\n",
       "      <td>11.2</td>\n",
       "      <td>0.28</td>\n",
       "      <td>0.56</td>\n",
       "      <td>1.9</td>\n",
       "      <td>0.075</td>\n",
       "      <td>17.0</td>\n",
       "      <td>60.0</td>\n",
       "      <td>0.9980</td>\n",
       "      <td>3.16</td>\n",
       "      <td>0.58</td>\n",
       "      <td>9.8</td>\n",
       "      <td>6</td>\n",
       "    </tr>\n",
       "    <tr>\n",
       "      <th>4</th>\n",
       "      <td>7.4</td>\n",
       "      <td>0.70</td>\n",
       "      <td>0.00</td>\n",
       "      <td>1.9</td>\n",
       "      <td>0.076</td>\n",
       "      <td>11.0</td>\n",
       "      <td>34.0</td>\n",
       "      <td>0.9978</td>\n",
       "      <td>3.51</td>\n",
       "      <td>0.56</td>\n",
       "      <td>9.4</td>\n",
       "      <td>5</td>\n",
       "    </tr>\n",
       "  </tbody>\n",
       "</table>\n",
       "</div>"
      ],
      "text/plain": [
       "   fixed acidity  volatile acidity  citric acid  residual sugar  chlorides  \\\n",
       "0            7.4              0.70         0.00             1.9      0.076   \n",
       "1            7.8              0.88         0.00             2.6      0.098   \n",
       "2            7.8              0.76         0.04             2.3      0.092   \n",
       "3           11.2              0.28         0.56             1.9      0.075   \n",
       "4            7.4              0.70         0.00             1.9      0.076   \n",
       "\n",
       "   free sulfur dioxide  total sulfur dioxide  density    pH  sulphates  \\\n",
       "0                 11.0                  34.0   0.9978  3.51       0.56   \n",
       "1                 25.0                  67.0   0.9968  3.20       0.68   \n",
       "2                 15.0                  54.0   0.9970  3.26       0.65   \n",
       "3                 17.0                  60.0   0.9980  3.16       0.58   \n",
       "4                 11.0                  34.0   0.9978  3.51       0.56   \n",
       "\n",
       "   alcohol  quality  \n",
       "0      9.4        5  \n",
       "1      9.8        5  \n",
       "2      9.8        5  \n",
       "3      9.8        6  \n",
       "4      9.4        5  "
      ]
     },
     "execution_count": 2,
     "metadata": {},
     "output_type": "execute_result"
    }
   ],
   "source": [
    "import pandas as pd\n",
    "url = 'https://s3.amazonaws.com/assets.datacamp.com/production/course_1606/datasets/winequality-red.csv'\n",
    "df = pd.read_csv(url, sep=';')\n",
    "df.head()"
   ]
  },
  {
   "cell_type": "markdown",
   "metadata": {},
   "source": [
    "## GET requests using urllib"
   ]
  },
  {
   "cell_type": "code",
   "execution_count": 3,
   "metadata": {},
   "outputs": [],
   "source": [
    "from urllib.request import urlopen, Request\n",
    "url = \"https://www.google.com\"\n",
    "request = Request(url)\n",
    "response = urlopen(request)\n",
    "html = response.read()\n",
    "response.close()"
   ]
  },
  {
   "cell_type": "markdown",
   "metadata": {},
   "source": [
    "## GET request using requests (Different from 'Request')"
   ]
  },
  {
   "cell_type": "code",
   "execution_count": 4,
   "metadata": {},
   "outputs": [
    {
     "data": {
      "text/plain": [
       "{'Date': 'Wed, 14 Aug 2019 00:14:52 GMT', 'Content-Type': 'text/html', 'Content-Length': '18685', 'Connection': 'keep-alive', 'Server': 'mw1239.eqiad.wmnet', 'Cache-Control': 's-maxage=86400, must-revalidate, max-age=3600', 'ETag': 'W/\"129d0-58f5c4cdc3919\"', 'Last-Modified': 'Mon, 05 Aug 2019 10:37:52 GMT', 'Backend-Timing': 'D=232 t=1565507952102932', 'Content-Encoding': 'gzip', 'Vary': 'X-Seven, Accept-Encoding', 'X-Varnish': '922336708 909575905, 679934806 216828023', 'Age': '67630', 'X-Cache': 'cp1079 hit/6, cp1075 hit/644450', 'X-Cache-Status': 'hit-front', 'Server-Timing': 'cache;desc=\"hit-front\"', 'Strict-Transport-Security': 'max-age=106384710; includeSubDomains; preload', 'Set-Cookie': 'WMF-Last-Access=14-Aug-2019;Path=/;HttpOnly;secure;Expires=Sun, 15 Sep 2019 00:00:00 GMT, WMF-Last-Access-Global=14-Aug-2019;Path=/;Domain=.wikipedia.org;HttpOnly;secure;Expires=Sun, 15 Sep 2019 00:00:00 GMT, GeoIP=US:IN:Fishers:39.96:-86.02:v4; Path=/; secure; Domain=.wikipedia.org', 'X-Analytics': 'https=1;nocookies=1', 'X-Client-IP': '38.109.189.211', 'Accept-Ranges': 'bytes'}"
      ]
     },
     "execution_count": 4,
     "metadata": {},
     "output_type": "execute_result"
    }
   ],
   "source": [
    "import requests\n",
    "url = \"https://www.wikipedia.org/\"\n",
    "req = requests.get(url)\n",
    "headers = req.headers\n",
    "headers"
   ]
  },
  {
   "cell_type": "markdown",
   "metadata": {},
   "source": [
    "## Scraping the web in Python\n",
    "\n",
    "**HTML**\n",
    "* Mix of unstructured and structured data\n",
    "* Structured data\n",
    "    * Pre-defined data models or\n",
    "    * Organized in a defined manner\n",
    "\n",
    "\n",
    " ### BeautifulSoup\n",
    " * Parse and extract structured data from HTML\n",
    " * Make tag soup beautiful and extract information"
   ]
  },
  {
   "cell_type": "code",
   "execution_count": 5,
   "metadata": {},
   "outputs": [
    {
     "data": {
      "text/plain": [
       "<!DOCTYPE HTML PUBLIC \"-//W3C//DTD HTML 4.0 Transitional//EN\" \"http://www.w3.org/TR/REC-html40/transitional.dtd\">\n",
       "<html>\n",
       "<head>\n",
       "<meta content=\"text/html; charset=utf-8\" http-equiv=\"Content-Type\"/>\n",
       "<title>Beautiful Soup: We called him Tortoise because he taught us.</title>\n",
       "<link href=\"mailto:leonardr@segfault.org\" rev=\"made\"/>\n",
       "<link href=\"/nb/themes/Default/nb.css\" rel=\"stylesheet\" type=\"text/css\"/>\n",
       "<meta content=\"Beautiful Soup: a library designed for screen-scraping HTML and XML.\" name=\"Description\"/>\n",
       "<meta content=\"Markov Approximation 1.4 (module: leonardr)\" name=\"generator\"/>\n",
       "<meta content=\"Leonard Richardson\" name=\"author\"/>\n",
       "</head>\n",
       "<body alink=\"red\" bgcolor=\"white\" link=\"blue\" text=\"black\" vlink=\"660066\">\n",
       "<img align=\"right\" src=\"10.1.jpg\" width=\"250\"/><br/>\n",
       "<p>You didn't write that awful page. You're just trying to get some\n",
       "data out of it. Beautiful Soup is here to help. Since 2004, it's been\n",
       "saving programmers hours or days of work on quick-turnaround\n",
       "screen scraping projects.</p>\n",
       "<div align=\"center\">\n",
       "<a href=\"bs4/download/\"><h1>Beautiful Soup</h1></a>\n",
       "<p>\"A tremendous boon.\" -- Python411 Podcast</p>\n",
       "<p>[ <a href=\"#Download\">Download</a> | <a href=\"bs4/doc/\">Documentation</a> | <a href=\"#HallOfFame\">Hall of Fame</a> | <a href=\"https://code.launchpad.net/beautifulsoup\">Source</a> | <a href=\"https://bazaar.launchpad.net/%7Eleonardr/beautifulsoup/bs4/view/head:/CHANGELOG\">Changelog</a> | <a href=\"https://groups.google.com/forum/?fromgroups#!forum/beautifulsoup\">Discussion group</a>  | <a href=\"zine/\">Zine</a> ]</p>\n",
       "<p><small>If you use Beautiful Soup as part of your work, please consider a <a href=\"https://tidelift.com/subscription/pkg/pypi-beautifulsoup4?utm_source=pypi-beautifulsoup4&amp;utm_medium=referral&amp;utm_campaign=website\">Tidelift subscription</a>. This will support many of the free software projects your organization depends on, not just Beautiful Soup.\n",
       "</small></p><p>If Beautiful Soup is useful to you on a personal level, you might like to read <a href=\"zine/\"><i>Tool Safety</i></a>, a short zine I wrote about what I learned about software development from working on Beautiful Soup. Thanks!</p>\n",
       "</div>\n",
       "<p><i>If you have questions, send them to <a href=\"https://groups.google.com/forum/?fromgroups#!forum/beautifulsoup\">the discussion\n",
       "group</a>. If you find a bug, <a href=\"https://bugs.launchpad.net/beautifulsoup/\">file it</a>.</i></p>\n",
       "<p>Beautiful Soup is a Python library designed for quick turnaround\n",
       "projects like screen-scraping. Three features make it powerful:\n",
       "\n",
       "</p><ol>\n",
       "<li>Beautiful Soup provides a few simple methods and Pythonic idioms\n",
       "for navigating, searching, and modifying a parse tree: a toolkit for\n",
       "dissecting a document and extracting what you need. It doesn't take\n",
       "much code to write an application\n",
       "\n",
       "</li><li>Beautiful Soup automatically converts incoming documents to\n",
       "Unicode and outgoing documents to UTF-8. You don't have to think\n",
       "about encodings, unless the document doesn't specify an encoding and\n",
       "Beautiful Soup can't detect one. Then you just have to specify the\n",
       "original encoding.\n",
       "\n",
       "</li><li>Beautiful Soup sits on top of popular Python parsers like <a href=\"http://lxml.de/\">lxml</a> and <a href=\"http://code.google.com/p/html5lib/\">html5lib</a>, allowing you\n",
       "to try out different parsing strategies or trade speed for\n",
       "flexibility.\n",
       "\n",
       "</li></ol>\n",
       "<p>Beautiful Soup parses anything you give it, and does the tree\n",
       "traversal stuff for you. You can tell it \"Find all the links\", or\n",
       "\"Find all the links of class <tt>externalLink</tt>\", or \"Find all the\n",
       "links whose urls match \"foo.com\", or \"Find the table heading that's\n",
       "got bold text, then give me that text.\"\n",
       "\n",
       "</p><p>Valuable data that was once locked up in poorly-designed websites\n",
       "is now within your reach. Projects that would have taken hours take\n",
       "only minutes with Beautiful Soup.\n",
       "\n",
       "</p><p>Interested? <a href=\"bs4/doc/\">Read more.</a>\n",
       "<a name=\"Download\"><h2>Download Beautiful Soup</h2></a>\n",
       "</p><p>The current release is <a href=\"bs4/download/\">Beautiful Soup\n",
       "4.8.0</a> (July 20, 2019). You can install Beautiful Soup 4 with\n",
       "<code>pip install beautifulsoup4</code>.\n",
       "\n",
       "</p><p>In Debian and Ubuntu, Beautiful Soup is available as the\n",
       "<code>python-bs4</code> package (for Python 2) or the\n",
       "<code>python3-bs4</code> package (for Python 3). In Fedora it's\n",
       "available as the <code>python-beautifulsoup4</code> package.\n",
       "\n",
       "</p><p>Beautiful Soup is licensed under the MIT license, so you can also\n",
       "download the tarball, drop the <code>bs4/</code> directory into almost\n",
       "any Python application (or into your library path) and start using it\n",
       "immediately. (If you want to do this under Python 3, you will need to\n",
       "manually convert the code using <code>2to3</code>.)\n",
       "\n",
       "</p><p>Beautiful Soup 4 works on both Python 2 (2.7+) and Python 3.\n",
       "\n",
       "</p><h3>Beautiful Soup 3</h3>\n",
       "<p>Beautiful Soup 3 was the official release line of Beautiful Soup\n",
       "from May 2006 to March 2012. It is considered stable, and only\n",
       "critical security bugs will be fixed. <a href=\"http://www.crummy.com/software/BeautifulSoup/bs3/documentation.html\">Here's\n",
       "the Beautiful Soup 3 documentation.</a>\n",
       "</p><p>Beautiful Soup 3 works only under Python 2.x. It is licensed under\n",
       "the same license as Python itself.\n",
       "\n",
       "</p><p>The current release of Beautiful Soup 3 is <a href=\"download/3.x/BeautifulSoup-3.2.1.tar.gz\">3.2.1</a> (February 16,\n",
       "2012). You can install Beautiful Soup 3 with <code>pip install\n",
       "BeautifulSoup</code>. It's also available as\n",
       "<code>python-beautifulsoup</code> in Debian and Ubuntu, and as\n",
       "<code>python-BeautifulSoup</code> in Fedora.\n",
       "\n",
       "</p><p>You can also download the tarball and use\n",
       "<code>BeautifulSoup.py</code> in your project directly.\n",
       "\n",
       "\n",
       "<a name=\"HallOfFame\"><h2>Hall of Fame</h2></a>\n",
       "</p><p>Over the years, Beautiful Soup has been used in hundreds of\n",
       "different projects. There's no way I can list them all, but I want to\n",
       "highlight a few high-profile projects. Beautiful Soup isn't what makes\n",
       "these projects interesting, but it did make their completion easier:\n",
       "\n",
       "</p><ul>\n",
       "<li><a href=\"http://www.nytimes.com/2007/10/25/arts/design/25vide.html\">\"Movable\n",
       " Type\"</a>, a work of digital art on display in the lobby of the New\n",
       " York Times building, uses Beautiful Soup to scrape news feeds.\n",
       "\n",
       "</li><li>Reddit uses Beautiful Soup to <a href=\"https://github.com/reddit/reddit/blob/85f9cff3e2ab9bb8f19b96acd8da4ebacc079f04/r2/r2/lib/media.py\">parse\n",
       "a page that's been linked to and find a representative image</a>.\n",
       "\n",
       "</li><li>Alexander Harrowell uses Beautiful Soup to <a href=\"http://www.harrowell.org.uk/viktormap.html\">track the business\n",
       " activities</a> of an arms merchant.\n",
       "\n",
       "</li><li>The developers of Python itself used Beautiful Soup to <a href=\"http://svn.python.org/view/tracker/importer/\">migrate the Python\n",
       "bug tracker from Sourceforge to Roundup</a>.\n",
       "\n",
       "</li><li>The <a href=\"http://www2.ljworld.com/\">Lawrence Journal-World</a>\n",
       "uses Beautiful Soup to <a href=\"http://www.b-list.org/weblog/2010/nov/02/news-done-broke/\">gather\n",
       "statewide election results</a>.\n",
       "\n",
       "</li><li>The <a href=\"http://esrl.noaa.gov/gsd/fab/\">NOAA's Forecast\n",
       "Applications Branch</a> uses Beautiful Soup in <a href=\"http://laps.noaa.gov/topograbber/\">TopoGrabber</a>, a script for\n",
       "downloading \"high resolution USGS datasets.\"\n",
       "\n",
       "</li></ul>\n",
       "<p>If you've used Beautiful Soup in a project you'd like me to know\n",
       "about, please do send email to me or <a href=\"http://groups.google.com/group/beautifulsoup/\">the discussion\n",
       "group</a>.\n",
       "\n",
       "</p><h2>Development</h2>\n",
       "<p>Development happens at <a href=\"https://launchpad.net/beautifulsoup\">Launchpad</a>. You can <a href=\"https://code.launchpad.net/beautifulsoup/\">get the source\n",
       "code</a> or <a href=\"https://bugs.launchpad.net/beautifulsoup/\">file\n",
       "bugs</a>.</p><hr/><table><tr><td valign=\"top\">\n",
       "<p>This document (<a href=\"/source/software/BeautifulSoup/index.bhtml\">source</a>) is part of Crummy, the webspace of <a href=\"/self/\">Leonard Richardson</a> (<a href=\"/self/contact.html\">contact information</a>). It was last modified on Sunday, July 21 2019, 17:41:10 Nowhere Standard Time and last built on Wednesday, August 14 2019, 00:00:02 Nowhere Standard Time.</p><p></p><table class=\"licenseText\"><tr><td><a href=\"http://creativecommons.org/licenses/by-sa/2.0/\"><img border=\"0\" src=\"/nb//resources/img/somerights20.jpg\"/></a></td><td valign=\"top\">Crummy is © 1996-2019 Leonard Richardson. Unless otherwise noted, all text licensed under a <a href=\"http://creativecommons.org/licenses/by-sa/2.0/\">Creative Commons License</a>.</td></tr></table><!--<rdf:RDF xmlns=\"http://web.resource.org/cc/\" xmlns:dc=\"http://purl.org/dc/elements/1.1/\" xmlns:rdf=\"http://www.w3.org/1999/02/22-rdf-syntax-ns#\"><Work rdf:about=\"http://www.crummy.com/\"><dc:title>Crummy: The Site</dc:title><dc:rights><Agent><dc:title>Crummy: the Site</dc:title></Agent></dc:rights><dc:format>text/html</dc:format><license rdf:resource=http://creativecommons.org/licenses/by-sa/2.0//></Work><License rdf:about=\"http://creativecommons.org/licenses/by-sa/2.0/\"></License></rdf:RDF>--></td><td valign=\"top\"><p><b>Document tree:</b>\n",
       "</p><dl><dd><a href=\"http://www.crummy.com/\">http://www.crummy.com/</a><dl><dd><a href=\"http://www.crummy.com/software/\">software/</a><dl><dd><a href=\"http://www.crummy.com/software/BeautifulSoup/\">BeautifulSoup/</a></dd></dl>\n",
       "</dd></dl>\n",
       "</dd></dl>\n",
       "\n",
       "\n",
       "Site Search:\n",
       "\n",
       "<form action=\"/search/\" method=\"get\">\n",
       "<input maxlength=\"255\" name=\"q\" type=\"text\" value=\"\"/>\n",
       "</form>\n",
       "</td>\n",
       "</tr>\n",
       "</table>\n",
       "</body>\n",
       "</html>"
      ]
     },
     "execution_count": 5,
     "metadata": {},
     "output_type": "execute_result"
    }
   ],
   "source": [
    "from bs4 import BeautifulSoup\n",
    "import requests\n",
    "url = \"https://www.crummy.com/software/BeautifulSoup\"\n",
    "req = requests.get(url)\n",
    "html_doc = req.text\n",
    "soup = BeautifulSoup(html_doc)\n",
    "soup"
   ]
  },
  {
   "cell_type": "code",
   "execution_count": 6,
   "metadata": {},
   "outputs": [
    {
     "data": {
      "text/plain": [
       "<title>Beautiful Soup: We called him Tortoise because he taught us.</title>"
      ]
     },
     "execution_count": 6,
     "metadata": {},
     "output_type": "execute_result"
    }
   ],
   "source": [
    "# Get the Title of the webpage\n",
    "title = soup.title\n",
    "title"
   ]
  },
  {
   "cell_type": "code",
   "execution_count": 7,
   "metadata": {},
   "outputs": [
    {
     "data": {
      "text/plain": [
       "'\\n\\n\\nBeautiful Soup: We called him Tortoise because he taught us.\\n\\n\\n\\n\\n\\n\\n\\n\\nYou didn\\'t write that awful page. You\\'re just trying to get some\\ndata out of it. Beautiful Soup is here to help. Since 2004, it\\'s been\\nsaving programmers hours or days of work on quick-turnaround\\nscreen scraping projects.\\n\\nBeautiful Soup\\n\"A tremendous boon.\" -- Python411 Podcast\\n[ Download | Documentation | Hall of Fame | Source | Changelog | Discussion group  | Zine ]\\nIf you use Beautiful Soup as part of your work, please consider a Tidelift subscription. This will support many of the free software projects your organization depends on, not just Beautiful Soup.\\nIf Beautiful Soup is useful to you on a personal level, you might like to read Tool Safety, a short zine I wrote about what I learned about software development from working on Beautiful Soup. Thanks!\\n\\nIf you have questions, send them to the discussion\\ngroup. If you find a bug, file it.\\nBeautiful Soup is a Python library designed for quick turnaround\\nprojects like screen-scraping. Three features make it powerful:\\n\\n\\nBeautiful Soup provides a few simple methods and Pythonic idioms\\nfor navigating, searching, and modifying a parse tree: a toolkit for\\ndissecting a document and extracting what you need. It doesn\\'t take\\nmuch code to write an application\\n\\nBeautiful Soup automatically converts incoming documents to\\nUnicode and outgoing documents to UTF-8. You don\\'t have to think\\nabout encodings, unless the document doesn\\'t specify an encoding and\\nBeautiful Soup can\\'t detect one. Then you just have to specify the\\noriginal encoding.\\n\\nBeautiful Soup sits on top of popular Python parsers like lxml and html5lib, allowing you\\nto try out different parsing strategies or trade speed for\\nflexibility.\\n\\n\\nBeautiful Soup parses anything you give it, and does the tree\\ntraversal stuff for you. You can tell it \"Find all the links\", or\\n\"Find all the links of class externalLink\", or \"Find all the\\nlinks whose urls match \"foo.com\", or \"Find the table heading that\\'s\\ngot bold text, then give me that text.\"\\n\\nValuable data that was once locked up in poorly-designed websites\\nis now within your reach. Projects that would have taken hours take\\nonly minutes with Beautiful Soup.\\n\\nInterested? Read more.\\nDownload Beautiful Soup\\nThe current release is Beautiful Soup\\n4.8.0 (July 20, 2019). You can install Beautiful Soup 4 with\\npip install beautifulsoup4.\\n\\nIn Debian and Ubuntu, Beautiful Soup is available as the\\npython-bs4 package (for Python 2) or the\\npython3-bs4 package (for Python 3). In Fedora it\\'s\\navailable as the python-beautifulsoup4 package.\\n\\nBeautiful Soup is licensed under the MIT license, so you can also\\ndownload the tarball, drop the bs4/ directory into almost\\nany Python application (or into your library path) and start using it\\nimmediately. (If you want to do this under Python 3, you will need to\\nmanually convert the code using 2to3.)\\n\\nBeautiful Soup 4 works on both Python 2 (2.7+) and Python 3.\\n\\nBeautiful Soup 3\\nBeautiful Soup 3 was the official release line of Beautiful Soup\\nfrom May 2006 to March 2012. It is considered stable, and only\\ncritical security bugs will be fixed. Here\\'s\\nthe Beautiful Soup 3 documentation.\\nBeautiful Soup 3 works only under Python 2.x. It is licensed under\\nthe same license as Python itself.\\n\\nThe current release of Beautiful Soup 3 is 3.2.1 (February 16,\\n2012). You can install Beautiful Soup 3 with pip install\\nBeautifulSoup. It\\'s also available as\\npython-beautifulsoup in Debian and Ubuntu, and as\\npython-BeautifulSoup in Fedora.\\n\\nYou can also download the tarball and use\\nBeautifulSoup.py in your project directly.\\n\\n\\nHall of Fame\\nOver the years, Beautiful Soup has been used in hundreds of\\ndifferent projects. There\\'s no way I can list them all, but I want to\\nhighlight a few high-profile projects. Beautiful Soup isn\\'t what makes\\nthese projects interesting, but it did make their completion easier:\\n\\n\\n\"Movable\\n Type\", a work of digital art on display in the lobby of the New\\n York Times building, uses Beautiful Soup to scrape news feeds.\\n\\nReddit uses Beautiful Soup to parse\\na page that\\'s been linked to and find a representative image.\\n\\nAlexander Harrowell uses Beautiful Soup to track the business\\n activities of an arms merchant.\\n\\nThe developers of Python itself used Beautiful Soup to migrate the Python\\nbug tracker from Sourceforge to Roundup.\\n\\nThe Lawrence Journal-World\\nuses Beautiful Soup to gather\\nstatewide election results.\\n\\nThe NOAA\\'s Forecast\\nApplications Branch uses Beautiful Soup in TopoGrabber, a script for\\ndownloading \"high resolution USGS datasets.\"\\n\\n\\nIf you\\'ve used Beautiful Soup in a project you\\'d like me to know\\nabout, please do send email to me or the discussion\\ngroup.\\n\\nDevelopment\\nDevelopment happens at Launchpad. You can get the source\\ncode or file\\nbugs.\\nThis document (source) is part of Crummy, the webspace of Leonard Richardson (contact information). It was last modified on Sunday, July 21 2019, 17:41:10 Nowhere Standard Time and last built on Wednesday, August 14 2019, 00:00:02 Nowhere Standard Time.Crummy is © 1996-2019 Leonard Richardson. Unless otherwise noted, all text licensed under a Creative Commons License.Document tree:\\nhttp://www.crummy.com/software/BeautifulSoup/\\n\\n\\n\\n\\nSite Search:\\n\\n\\n\\n\\n\\n\\n\\n\\n\\n'"
      ]
     },
     "execution_count": 7,
     "metadata": {},
     "output_type": "execute_result"
    }
   ],
   "source": [
    "# Get the Text of the webpage\n",
    "text = soup.text\n",
    "text"
   ]
  },
  {
   "cell_type": "code",
   "execution_count": 8,
   "metadata": {},
   "outputs": [
    {
     "name": "stdout",
     "output_type": "stream",
     "text": [
      "bs4/download/\n",
      "#Download\n",
      "bs4/doc/\n",
      "#HallOfFame\n",
      "https://code.launchpad.net/beautifulsoup\n",
      "https://bazaar.launchpad.net/%7Eleonardr/beautifulsoup/bs4/view/head:/CHANGELOG\n",
      "https://groups.google.com/forum/?fromgroups#!forum/beautifulsoup\n",
      "zine/\n",
      "https://tidelift.com/subscription/pkg/pypi-beautifulsoup4?utm_source=pypi-beautifulsoup4&utm_medium=referral&utm_campaign=website\n",
      "zine/\n",
      "https://groups.google.com/forum/?fromgroups#!forum/beautifulsoup\n",
      "https://bugs.launchpad.net/beautifulsoup/\n",
      "http://lxml.de/\n",
      "http://code.google.com/p/html5lib/\n",
      "bs4/doc/\n",
      "None\n",
      "bs4/download/\n",
      "http://www.crummy.com/software/BeautifulSoup/bs3/documentation.html\n",
      "download/3.x/BeautifulSoup-3.2.1.tar.gz\n",
      "None\n",
      "http://www.nytimes.com/2007/10/25/arts/design/25vide.html\n",
      "https://github.com/reddit/reddit/blob/85f9cff3e2ab9bb8f19b96acd8da4ebacc079f04/r2/r2/lib/media.py\n",
      "http://www.harrowell.org.uk/viktormap.html\n",
      "http://svn.python.org/view/tracker/importer/\n",
      "http://www2.ljworld.com/\n",
      "http://www.b-list.org/weblog/2010/nov/02/news-done-broke/\n",
      "http://esrl.noaa.gov/gsd/fab/\n",
      "http://laps.noaa.gov/topograbber/\n",
      "http://groups.google.com/group/beautifulsoup/\n",
      "https://launchpad.net/beautifulsoup\n",
      "https://code.launchpad.net/beautifulsoup/\n",
      "https://bugs.launchpad.net/beautifulsoup/\n",
      "/source/software/BeautifulSoup/index.bhtml\n",
      "/self/\n",
      "/self/contact.html\n",
      "http://creativecommons.org/licenses/by-sa/2.0/\n",
      "http://creativecommons.org/licenses/by-sa/2.0/\n",
      "http://www.crummy.com/\n",
      "http://www.crummy.com/software/\n",
      "http://www.crummy.com/software/BeautifulSoup/\n"
     ]
    }
   ],
   "source": [
    "# Find all 'a' tags\n",
    "a_tags = soup.find_all('a')\n",
    "for link in a_tags:\n",
    "    print(link.get('href'))"
   ]
  }
 ],
 "metadata": {
  "kernelspec": {
   "display_name": "Python 3",
   "language": "python",
   "name": "python3"
  },
  "language_info": {
   "codemirror_mode": {
    "name": "ipython",
    "version": 3
   },
   "file_extension": ".py",
   "mimetype": "text/x-python",
   "name": "python",
   "nbconvert_exporter": "python",
   "pygments_lexer": "ipython3",
   "version": "3.7.3"
  },
  "toc": {
   "base_numbering": 1,
   "nav_menu": {},
   "number_sections": true,
   "sideBar": true,
   "skip_h1_title": false,
   "title_cell": "Table of Contents",
   "title_sidebar": "Contents",
   "toc_cell": false,
   "toc_position": {},
   "toc_section_display": true,
   "toc_window_display": false
  }
 },
 "nbformat": 4,
 "nbformat_minor": 2
}
