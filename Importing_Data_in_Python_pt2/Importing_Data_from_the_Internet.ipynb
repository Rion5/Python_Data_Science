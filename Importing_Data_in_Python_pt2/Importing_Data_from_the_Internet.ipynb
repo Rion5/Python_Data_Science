{
 "cells": [
  {
   "cell_type": "markdown",
   "metadata": {},
   "source": [
    "# Importing Data from the Internet\n",
    "\n",
    "**Lesson Plan**\n",
    "* Import and locally save datasets from the web\n",
    "* Load datasets into pandas DataFrames\n",
    "* Make HTTP requests (GET requests)\n",
    "* Scape web data such as HTML\n",
    "* Parse HTML into useful data (Beautiful Soup)\n",
    "    * Packages: ***urlib*** and ***requests***\n",
    "    \n",
    "## urllib package\n",
    "* Provies interface for fetching data from the web\n",
    "* urlopen() - accepts URLs instead of file names"
   ]
  },
  {
   "cell_type": "code",
   "execution_count": 1,
   "metadata": {},
   "outputs": [
    {
     "data": {
      "text/plain": [
       "('sample_data/winequality-white.csv',\n",
       " <http.client.HTTPMessage at 0x18a23f71128>)"
      ]
     },
     "execution_count": 1,
     "metadata": {},
     "output_type": "execute_result"
    }
   ],
   "source": [
    "from urllib.request import urlretrieve\n",
    "url = 'http://archive.ics.uci.edu/ml/machine-learning-databases/wine-quality/winequality-white.csv'\n",
    "\n",
    "# Downloads and saves data into the sample_data folder, into a file named 'winequality-white.csvabs'\n",
    "urlretrieve(url, 'sample_data/winequality-white.csv')"
   ]
  }
 ],
 "metadata": {
  "kernelspec": {
   "display_name": "Python 3",
   "language": "python",
   "name": "python3"
  },
  "language_info": {
   "codemirror_mode": {
    "name": "ipython",
    "version": 3
   },
   "file_extension": ".py",
   "mimetype": "text/x-python",
   "name": "python",
   "nbconvert_exporter": "python",
   "pygments_lexer": "ipython3",
   "version": "3.7.3"
  },
  "toc": {
   "base_numbering": 1,
   "nav_menu": {},
   "number_sections": true,
   "sideBar": true,
   "skip_h1_title": false,
   "title_cell": "Table of Contents",
   "title_sidebar": "Contents",
   "toc_cell": false,
   "toc_position": {},
   "toc_section_display": true,
   "toc_window_display": false
  }
 },
 "nbformat": 4,
 "nbformat_minor": 2
}
