{
 "cells": [
  {
   "cell_type": "markdown",
   "metadata": {},
   "source": [
    "# Python Data Science Toolbox Part II\n",
    "\n",
    "## Introduction to Iterators\n",
    "\n",
    "### Iterables vs Iterators\n",
    "\n",
    "* **Iterable**\n",
    "  * Example: lists, strings, dictionaries, file connections\n",
    "  * An object with an associated **iter()** method\n",
    "  * Applying **iter()** to an iterable creates an iterator\n",
    "* **Iterator**\n",
    "  * An object with an associated **next()** method\n",
    "  "
   ]
  },
  {
   "cell_type": "markdown",
   "metadata": {},
   "source": [
    "### Iterating over iterables: next()"
   ]
  },
  {
   "cell_type": "code",
   "execution_count": 1,
   "metadata": {},
   "outputs": [
    {
     "data": {
      "text/plain": [
       "'H'"
      ]
     },
     "execution_count": 1,
     "metadata": {},
     "output_type": "execute_result"
    }
   ],
   "source": [
    "word = 'Hi'\n",
    "iterable = iter(word)\n",
    "next(iterable)"
   ]
  },
  {
   "cell_type": "code",
   "execution_count": 2,
   "metadata": {},
   "outputs": [
    {
     "data": {
      "text/plain": [
       "'i'"
      ]
     },
     "execution_count": 2,
     "metadata": {},
     "output_type": "execute_result"
    }
   ],
   "source": [
    "next(iterable)"
   ]
  },
  {
   "cell_type": "code",
   "execution_count": 3,
   "metadata": {},
   "outputs": [
    {
     "ename": "StopIteration",
     "evalue": "",
     "output_type": "error",
     "traceback": [
      "\u001b[1;31m---------------------------------------------------------------------------\u001b[0m",
      "\u001b[1;31mStopIteration\u001b[0m                             Traceback (most recent call last)",
      "\u001b[1;32m<ipython-input-3-8b650dca5c56>\u001b[0m in \u001b[0;36m<module>\u001b[1;34m\u001b[0m\n\u001b[1;32m----> 1\u001b[1;33m \u001b[0mnext\u001b[0m\u001b[1;33m(\u001b[0m\u001b[0miterable\u001b[0m\u001b[1;33m)\u001b[0m\u001b[1;33m\u001b[0m\u001b[1;33m\u001b[0m\u001b[0m\n\u001b[0m",
      "\u001b[1;31mStopIteration\u001b[0m: "
     ]
    }
   ],
   "source": [
    "next(iterable)"
   ]
  },
  {
   "cell_type": "markdown",
   "metadata": {},
   "source": [
    "### Iterating at once with *"
   ]
  },
  {
   "cell_type": "code",
   "execution_count": 4,
   "metadata": {},
   "outputs": [
    {
     "name": "stdout",
     "output_type": "stream",
     "text": [
      "H e y\n"
     ]
    }
   ],
   "source": [
    "word = 'Hey'\n",
    "iterable = iter(word)\n",
    "print(*iterable)"
   ]
  },
  {
   "cell_type": "markdown",
   "metadata": {},
   "source": [
    "#### Warning: Once you iter() through the iterable, you can not iterate through it again, as there are no more values to go through!\n",
    "#### Notice how there are no outputs"
   ]
  },
  {
   "cell_type": "code",
   "execution_count": 5,
   "metadata": {},
   "outputs": [
    {
     "name": "stdout",
     "output_type": "stream",
     "text": [
      "\n"
     ]
    }
   ],
   "source": [
    "print(*iterable)"
   ]
  },
  {
   "cell_type": "markdown",
   "metadata": {},
   "source": [
    "### Iterating over Dictionaries"
   ]
  },
  {
   "cell_type": "code",
   "execution_count": 6,
   "metadata": {},
   "outputs": [
    {
     "name": "stdout",
     "output_type": "stream",
     "text": [
      "Test User\n",
      "Chai Grindean\n"
     ]
    }
   ],
   "source": [
    "my_dict = {\n",
    "    'Test': 'User',\n",
    "    'Chai': 'Grindean'\n",
    "}\n",
    "for key, value in my_dict.items():\n",
    "    print(key, value)"
   ]
  },
  {
   "cell_type": "markdown",
   "metadata": {},
   "source": [
    "### Iterating over file connections"
   ]
  },
  {
   "cell_type": "code",
   "execution_count": 7,
   "metadata": {},
   "outputs": [
    {
     "name": "stdout",
     "output_type": "stream",
     "text": [
      "This is the first line\n",
      "\n",
      "This is the second line\n",
      "\n",
      "This is the third and last line\n"
     ]
    }
   ],
   "source": [
    "import os\n",
    "file_path = os.getcwd() + '\\\\sample_data\\\\textfile1.txt'\n",
    "file = open(file_path)\n",
    "\n",
    "iterable = iter(file)\n",
    "print(next(iterable))\n",
    "print(next(iterable))\n",
    "print(next(iterable))"
   ]
  },
  {
   "cell_type": "markdown",
   "metadata": {},
   "source": [
    "## Playing with Iterators"
   ]
  },
  {
   "cell_type": "markdown",
   "metadata": {},
   "source": [
    "### Using enumerate()\n",
    "#### Takes in any iterable as an argument, such as a list, and returns an enumerate object which consists of pairs of elements; containing the original element, and their index position, within the iterable"
   ]
  },
  {
   "cell_type": "code",
   "execution_count": 8,
   "metadata": {},
   "outputs": [
    {
     "name": "stdout",
     "output_type": "stream",
     "text": [
      "<enumerate object at 0x000001F1F4076480>\n",
      "[(0, 'hawkeye'), (1, 'iron man'), (2, 'thor')]\n",
      "0 hawkeye\n",
      "1 iron man\n",
      "2 thor\n"
     ]
    }
   ],
   "source": [
    "avengers = ['hawkeye', 'iron man', 'thor']\n",
    "e = enumerate(avengers)\n",
    "print(e)\n",
    "\n",
    "# turn enumerate object into a list with the values, and index from avengers iterable\n",
    "my_list = list(e)\n",
    "print(my_list)\n",
    "\n",
    "for index, value in my_list:\n",
    "    print(index, value)"
   ]
  },
  {
   "cell_type": "markdown",
   "metadata": {},
   "source": [
    "### Using zip()\n",
    "#### Takes any number of iterables and returns a Zip object, which is an iterator of tuples"
   ]
  },
  {
   "cell_type": "code",
   "execution_count": 9,
   "metadata": {},
   "outputs": [
    {
     "name": "stdout",
     "output_type": "stream",
     "text": [
      "<zip object at 0x000001F1F4079708>\n",
      "[('hawkeye', 'barton'), ('iron man', 'stark'), ('thor', 'odison')]\n"
     ]
    }
   ],
   "source": [
    "avengers = ['hawkeye', 'iron man', 'thor']\n",
    "last_names = ['barton', 'stark', 'odison', 'maximoff']\n",
    "z = zip(avengers, last_names)\n",
    "print(z)\n",
    "\n",
    "# turn zip object into a list\n",
    "my_list = list(z)\n",
    "print(my_list)"
   ]
  },
  {
   "cell_type": "code",
   "execution_count": 10,
   "metadata": {},
   "outputs": [
    {
     "name": "stdout",
     "output_type": "stream",
     "text": [
      "hawkeye barton\n",
      "iron man stark\n",
      "thor odison\n"
     ]
    }
   ],
   "source": [
    "# We can loop through the iterator\n",
    "for avenger, last_name in my_list:\n",
    "    print(avenger, last_name)"
   ]
  },
  {
   "cell_type": "code",
   "execution_count": 11,
   "metadata": {},
   "outputs": [
    {
     "name": "stdout",
     "output_type": "stream",
     "text": [
      "('hawkeye', 'barton') ('iron man', 'stark') ('thor', 'odison')\n"
     ]
    }
   ],
   "source": [
    "# Or we can use the splat (*) operator to unpack our Zip object\n",
    "z = zip(avengers, last_names)\n",
    "print(*z)"
   ]
  },
  {
   "cell_type": "markdown",
   "metadata": {},
   "source": [
    "## Using iterators for big data"
   ]
  },
  {
   "cell_type": "markdown",
   "metadata": {},
   "source": [
    "Imagine the scenario where there is too much data to hold in memory.\n",
    "\n",
    "**Solution:** Load data in chunks!\n",
    "\n",
    "We can use Pandas read_csv() function to help load data into chunks, by specifying the *chunksize* property"
   ]
  },
  {
   "cell_type": "code",
   "execution_count": 12,
   "metadata": {},
   "outputs": [
    {
     "name": "stdout",
     "output_type": "stream",
     "text": [
      "60\n",
      "700\n",
      "5\n",
      "64\n",
      "233\n",
      "87\n",
      "321\n",
      "111\n",
      "71\n",
      "967\n",
      "Total: 2619\n"
     ]
    }
   ],
   "source": [
    "file_path = os.getcwd() + '\\\\sample_data\\\\data1.csv'\n",
    "\n",
    "import pandas as pd\n",
    "total = 0\n",
    "\n",
    "# The object created in read_csv() is an iterable,\n",
    "for chunk in pd.read_csv(file_path, chunksize = 2):\n",
    "    total += sum(chunk['column_1'])\n",
    "    print(f\"{sum(chunk['column_1'])}\")\n",
    "print(f\"Total: {total}\")"
   ]
  }
 ],
 "metadata": {
  "kernelspec": {
   "display_name": "Python 3",
   "language": "python",
   "name": "python3"
  },
  "language_info": {
   "codemirror_mode": {
    "name": "ipython",
    "version": 3
   },
   "file_extension": ".py",
   "mimetype": "text/x-python",
   "name": "python",
   "nbconvert_exporter": "python",
   "pygments_lexer": "ipython3",
   "version": "3.7.3"
  },
  "toc": {
   "base_numbering": 1,
   "nav_menu": {},
   "number_sections": true,
   "sideBar": true,
   "skip_h1_title": false,
   "title_cell": "Table of Contents",
   "title_sidebar": "Contents",
   "toc_cell": false,
   "toc_position": {},
   "toc_section_display": true,
   "toc_window_display": true
  }
 },
 "nbformat": 4,
 "nbformat_minor": 2
}
